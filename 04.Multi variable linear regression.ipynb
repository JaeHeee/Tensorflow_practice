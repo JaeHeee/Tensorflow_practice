{
  "nbformat": 4,
  "nbformat_minor": 0,
  "metadata": {
    "colab": {
      "name": "Untitled0.ipynb",
      "provenance": [],
      "authorship_tag": "ABX9TyPQ4KK6DZJ/xvw/XxFsEaDb",
      "include_colab_link": true
    },
    "kernelspec": {
      "name": "python3",
      "display_name": "Python 3"
    }
  },
  "cells": [
    {
      "cell_type": "markdown",
      "metadata": {
        "id": "view-in-github",
        "colab_type": "text"
      },
      "source": [
        "<a href=\"https://colab.research.google.com/github/JaeHeee/Tensorflow_practice/blob/master/Multi%20variable%20linear%20regression.ipynb\" target=\"_parent\"><img src=\"https://colab.research.google.com/assets/colab-badge.svg\" alt=\"Open In Colab\"/></a>"
      ]
    },
    {
      "cell_type": "code",
      "metadata": {
        "id": "yFrPmTuYxzUi",
        "colab_type": "code",
        "colab": {}
      },
      "source": [
        "import tensorflow as tf\n",
        "import numpy as np"
      ],
      "execution_count": 0,
      "outputs": []
    },
    {
      "cell_type": "code",
      "metadata": {
        "id": "AM0lKDYZz1NT",
        "colab_type": "code",
        "colab": {}
      },
      "source": [
        "#data and label\n",
        "x1 = [73., 93., 98., 96., 73.]\n",
        "x2 = [80., 88., 91., 98., 66.]\n",
        "x3 = [152., 185., 180., 196., 142.]\n",
        "Y = [152., 185., 180., 196., 142.]"
      ],
      "execution_count": 0,
      "outputs": []
    },
    {
      "cell_type": "code",
      "metadata": {
        "id": "ppmTvv0Q0VYt",
        "colab_type": "code",
        "colab": {}
      },
      "source": [
        "# random weights\n",
        "w1 = tf.Variable(tf.random.normal([1]))\n",
        "w2 = tf.Variable(tf.random.normal([1]))\n",
        "w3 = tf.Variable(tf.random.normal([1]))\n",
        "b = tf.Variable(tf.random.normal([1]))"
      ],
      "execution_count": 0,
      "outputs": []
    },
    {
      "cell_type": "code",
      "metadata": {
        "id": "LjFuLzrB0zpG",
        "colab_type": "code",
        "colab": {
          "base_uri": "https://localhost:8080/",
          "height": 386
        },
        "outputId": "9fbbfe10-11a2-4117-fde7-42d6dcca9542"
      },
      "source": [
        "learning_rate = 0.00001\n",
        "\n",
        "for i in range(1000+1):\n",
        "    #tf.GradientTape() to record the gradient of the cost function\n",
        "    with tf.GradientTape() as tape:\n",
        "        hypothesis = w1 * x1 + w2 * x2 + w3 * x3 + b\n",
        "        cost = tf.reduce_mean(tf.square(hypothesis - Y))\n",
        "    # calculates the gradients of the cost\n",
        "    w1_grad, w2_grad, w3_grad, b_grad = tape.gradient(cost, [w1, w2, w3, b])\n",
        "\n",
        "    # update w1, w2, w3 and b\n",
        "    w1.assign_sub(learning_rate * w1_grad)\n",
        "    w2.assign_sub(learning_rate * w2_grad)\n",
        "    w3.assign_sub(learning_rate * w3_grad)\n",
        "    b.assign_sub(learning_rate * b_grad)\n",
        "\n",
        "    if i % 50 == 0:\n",
        "        print(\"{:5} | {:12.4f}\".format(i, cost.numpy()))"
      ],
      "execution_count": 7,
      "outputs": [
        {
          "output_type": "stream",
          "text": [
            "    0 |     611.6054\n",
            "   50 |      17.2884\n",
            "  100 |      16.9938\n",
            "  150 |      16.7049\n",
            "  200 |      16.4216\n",
            "  250 |      16.1438\n",
            "  300 |      15.8713\n",
            "  350 |      15.6040\n",
            "  400 |      15.3419\n",
            "  450 |      15.0847\n",
            "  500 |      14.8323\n",
            "  550 |      14.5848\n",
            "  600 |      14.3419\n",
            "  650 |      14.1036\n",
            "  700 |      13.8698\n",
            "  750 |      13.6403\n",
            "  800 |      13.4151\n",
            "  850 |      13.1941\n",
            "  900 |      12.9772\n",
            "  950 |      12.7643\n",
            " 1000 |      12.5553\n"
          ],
          "name": "stdout"
        }
      ]
    },
    {
      "cell_type": "code",
      "metadata": {
        "id": "xPeqeSpt1yPF",
        "colab_type": "code",
        "colab": {}
      },
      "source": [
        "data = np.array([\n",
        "    # X1,  X2,  X3,    y\n",
        "    [ 73., 80., 75., 152. ],\n",
        "    [ 93., 88., 93., 185. ],\n",
        "    [ 89., 91., 90., 180. ],\n",
        "    [ 96., 98., 100., 196. ],\n",
        "    [ 73., 66., 70., 142. ],\n",
        "], dtype=np.float32)\n",
        "\n",
        "# slice data\n",
        "X = data[:, :-1]\n",
        "y = data[:, [-1]]\n",
        "\n",
        "W = tf.Variable(tf.random.normal([3,1]))\n",
        "b = tf.Variable(tf.random.normal([1]))"
      ],
      "execution_count": 0,
      "outputs": []
    },
    {
      "cell_type": "code",
      "metadata": {
        "id": "awk4KKzF2rgo",
        "colab_type": "code",
        "colab": {
          "base_uri": "https://localhost:8080/",
          "height": 386
        },
        "outputId": "38bda3d8-7758-4511-d774-c8ecbc7b8bd5"
      },
      "source": [
        "# hypothesis, prediction function\n",
        "def predict(X):\n",
        "    return tf.matmul(X, W) + b\n",
        "\n",
        "n_epochs = 2000\n",
        "for i in range(n_epochs+1):\n",
        "    # record the gradient of the cost function\n",
        "    with tf.GradientTape() as tape:\n",
        "        cost = tf.reduce_mean((tf.square(predict(X) - y)))\n",
        "    \n",
        "    # calculates the gradients of the Loss\n",
        "    W_grad, b_grad = tape.gradient(cost, [W, b])\n",
        "\n",
        "    # update w1, w2, w3 and b\n",
        "    W.assign_sub(learning_rate * W_grad)\n",
        "    b.assign_sub(learning_rate * b_grad)\n",
        "\n",
        "    if i % 100 == 0:\n",
        "        print(\"{:5} | {:12.4f}\".format(i, cost.numpy()))"
      ],
      "execution_count": 13,
      "outputs": [
        {
          "output_type": "stream",
          "text": [
            "    0 |    2672.9810\n",
            "  100 |      11.1296\n",
            "  200 |      10.7663\n",
            "  300 |      10.4211\n",
            "  400 |      10.0930\n",
            "  500 |       9.7813\n",
            "  600 |       9.4849\n",
            "  700 |       9.2031\n",
            "  800 |       8.9352\n",
            "  900 |       8.6804\n",
            " 1000 |       8.4381\n",
            " 1100 |       8.2074\n",
            " 1200 |       7.9880\n",
            " 1300 |       7.7792\n",
            " 1400 |       7.5804\n",
            " 1500 |       7.3910\n",
            " 1600 |       7.2107\n",
            " 1700 |       7.0389\n",
            " 1800 |       6.8752\n",
            " 1900 |       6.7192\n",
            " 2000 |       6.5704\n"
          ],
          "name": "stdout"
        }
      ]
    },
    {
      "cell_type": "code",
      "metadata": {
        "id": "zwWQ7GVK3c06",
        "colab_type": "code",
        "colab": {}
      },
      "source": [
        ""
      ],
      "execution_count": 0,
      "outputs": []
    }
  ]
}