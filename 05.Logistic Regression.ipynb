{
  "nbformat": 4,
  "nbformat_minor": 0,
  "metadata": {
    "colab": {
      "name": "Untitled3.ipynb",
      "provenance": [],
      "authorship_tag": "ABX9TyMVDWHZ3g69aNrqgoRDjgnh",
      "include_colab_link": true
    },
    "kernelspec": {
      "name": "python3",
      "display_name": "Python 3"
    }
  },
  "cells": [
    {
      "cell_type": "markdown",
      "metadata": {
        "id": "view-in-github",
        "colab_type": "text"
      },
      "source": [
        "<a href=\"https://colab.research.google.com/github/JaeHeee/Tensorflow_practice/blob/master/05.Logistic%20Regression.ipynb\" target=\"_parent\"><img src=\"https://colab.research.google.com/assets/colab-badge.svg\" alt=\"Open In Colab\"/></a>"
      ]
    },
    {
      "cell_type": "code",
      "metadata": {
        "id": "egME-5UVvKCW",
        "colab_type": "code",
        "colab": {}
      },
      "source": [
        "import tensorflow as tf\n",
        "import numpy as np"
      ],
      "execution_count": 0,
      "outputs": []
    },
    {
      "cell_type": "code",
      "metadata": {
        "id": "K61jNmOH4x8V",
        "colab_type": "code",
        "colab": {}
      },
      "source": [
        "x_train = np.array([\n",
        "    [1, 2],\n",
        "    [2, 3],\n",
        "    [3, 1],\n",
        "    [4, 3],\n",
        "    [5, 3],\n",
        "    [6, 2]], dtype=np.float32)\n",
        "y_train = np.array([\n",
        "    [0],\n",
        "    [0],\n",
        "    [0],\n",
        "    [1],\n",
        "    [1],\n",
        "    [1]], dtype=np.float32)"
      ],
      "execution_count": 0,
      "outputs": []
    },
    {
      "cell_type": "code",
      "metadata": {
        "id": "guQwu6rf5nRW",
        "colab_type": "code",
        "colab": {}
      },
      "source": [
        "x_test = np.array([[5,2]], dtype=np.float32)\n",
        "y_test = np.array([[1]], dtype=np.float32)"
      ],
      "execution_count": 0,
      "outputs": []
    },
    {
      "cell_type": "code",
      "metadata": {
        "id": "pR2tZyZJ5xzk",
        "colab_type": "code",
        "colab": {}
      },
      "source": [
        "dataset = tf.data.Dataset.from_tensor_slices((x_train, y_train)).batch(len(x_train))\n",
        "W = tf.Variable(tf.zeros([2,1]), name='weight')\n",
        "b = tf.Variable(tf.zeros([1]),name='bias')"
      ],
      "execution_count": 0,
      "outputs": []
    },
    {
      "cell_type": "code",
      "metadata": {
        "id": "ndHvErH85yl2",
        "colab_type": "code",
        "colab": {}
      },
      "source": [
        "def logistic_regression(features):\n",
        "    hypothesis = tf.sigmoid(tf.matmul(features, W) + b)\n",
        "    return hypothesis"
      ],
      "execution_count": 0,
      "outputs": []
    },
    {
      "cell_type": "code",
      "metadata": {
        "id": "f2KltPZ77SGO",
        "colab_type": "code",
        "colab": {}
      },
      "source": [
        "def loss_fn(features, labels):\n",
        "    hypothesis = logistic_regression(features)\n",
        "    cost = -tf.reduce_mean(labels*tf.math.log(hypothesis) + (1-labels)*tf.math.log(1-hypothesis))\n",
        "    return cost"
      ],
      "execution_count": 0,
      "outputs": []
    },
    {
      "cell_type": "code",
      "metadata": {
        "id": "7ovw8v0B8HGX",
        "colab_type": "code",
        "colab": {}
      },
      "source": [
        "def grad(hypothesis, features, labels):\n",
        "    with tf.GradientTape() as tape:\n",
        "        loss_value = loss_fn(features, labels)\n",
        "    return tape.gradient(loss_value, [W,b])"
      ],
      "execution_count": 0,
      "outputs": []
    },
    {
      "cell_type": "code",
      "metadata": {
        "id": "hLCUGB-d8hWS",
        "colab_type": "code",
        "colab": {
          "base_uri": "https://localhost:8080/",
          "height": 210
        },
        "outputId": "6cb61889-5500-43ee-b0fd-e7cb5d5e2f90"
      },
      "source": [
        "optimizer = tf.keras.optimizers.SGD(learning_rate=0.01)\n",
        "\n",
        "EPOCHS = 3000\n",
        "\n",
        "for step in range(EPOCHS+1):\n",
        "    for features, labels in iter(dataset):\n",
        "        hypothesis = logistic_regression(features)\n",
        "        grads = grad(hypothesis,features, labels)\n",
        "        optimizer.apply_gradients(grads_and_vars=zip(grads,[W,b]))\n",
        "        if step % 300 == 0:\n",
        "            print(\"Iter: {}, Loss: {:.4f}\".format(step, loss_fn(features, labels)))\n",
        "\n",
        "def accuracy_fn(hypothesis, labels):\n",
        "    predicted = tf.cast(hypothesis > 0.5, dtype=tf.float32)\n",
        "    accuracy = tf.reduce_mean(tf.cast(tf.equal(predicted, labels), dtype=tf.int32))\n",
        "    return accuracy\n",
        "\n",
        "test_acc = accuracy_fn(logistic_regression(x_test), y_test)"
      ],
      "execution_count": 77,
      "outputs": [
        {
          "output_type": "stream",
          "text": [
            "Iter: 0, Loss: 0.6874\n",
            "Iter: 300, Loss: 0.5054\n",
            "Iter: 600, Loss: 0.4535\n",
            "Iter: 900, Loss: 0.4228\n",
            "Iter: 1200, Loss: 0.3992\n",
            "Iter: 1500, Loss: 0.3790\n",
            "Iter: 1800, Loss: 0.3608\n",
            "Iter: 2100, Loss: 0.3442\n",
            "Iter: 2400, Loss: 0.3288\n",
            "Iter: 2700, Loss: 0.3146\n",
            "Iter: 3000, Loss: 0.3013\n"
          ],
          "name": "stdout"
        }
      ]
    },
    {
      "cell_type": "code",
      "metadata": {
        "id": "fR_IcrmfA2Ty",
        "colab_type": "code",
        "colab": {}
      },
      "source": [
        ""
      ],
      "execution_count": 0,
      "outputs": []
    }
  ]
}