{
  "nbformat": 4,
  "nbformat_minor": 0,
  "metadata": {
    "colab": {
      "name": "11.mnist_cnn_keras_ensemble.ipynb",
      "provenance": [],
      "mount_file_id": "1AkBknrMxJkCPNawh2xq5V3dMF_R1G4I-",
      "authorship_tag": "ABX9TyM/iF5w9eg8jaIt+h138dOs",
      "include_colab_link": true
    },
    "kernelspec": {
      "name": "python3",
      "display_name": "Python 3"
    },
    "accelerator": "GPU"
  },
  "cells": [
    {
      "cell_type": "markdown",
      "metadata": {
        "id": "view-in-github",
        "colab_type": "text"
      },
      "source": [
        "<a href=\"https://colab.research.google.com/github/JaeHeee/Tensorflow_practice/blob/master/11_mnist_cnn_keras_ensemble.ipynb\" target=\"_parent\"><img src=\"https://colab.research.google.com/assets/colab-badge.svg\" alt=\"Open In Colab\"/></a>"
      ]
    },
    {
      "cell_type": "code",
      "metadata": {
        "id": "sgGNv7rSfj5a",
        "colab_type": "code",
        "colab": {}
      },
      "source": [
        "import tensorflow as tf\n",
        "from tensorflow import keras\n",
        "from tensorflow.keras.utils import to_categorical\n",
        "import numpy as np\n",
        "import matplotlib.pyplot as plt\n",
        "import os"
      ],
      "execution_count": 18,
      "outputs": []
    },
    {
      "cell_type": "code",
      "metadata": {
        "id": "SSTw3LaIgPT3",
        "colab_type": "code",
        "colab": {}
      },
      "source": [
        "learning_rate = 0.001\n",
        "training_epochs = 15\n",
        "batch_size = 100\n",
        "\n",
        "tf.random.set_seed(777)"
      ],
      "execution_count": 19,
      "outputs": []
    },
    {
      "cell_type": "code",
      "metadata": {
        "id": "RifCkYHCgUUg",
        "colab_type": "code",
        "colab": {}
      },
      "source": [
        "ckpt_dir_name = './drive/My Drive/Colab Notebooks/tensorflow/checkpoints'\n",
        "model_dir_name = 'minst_cnn_ens'\n",
        "\n",
        "checkpoint_dir = os.path.join(ckpt_dir_name, model_dir_name)\n",
        "\n",
        "checkpoint_prefix = os.path.join(checkpoint_dir, model_dir_name)"
      ],
      "execution_count": 20,
      "outputs": []
    },
    {
      "cell_type": "code",
      "metadata": {
        "id": "wQm1VQFngrL4",
        "colab_type": "code",
        "colab": {}
      },
      "source": [
        "mnist = keras.datasets.mnist\n",
        "\n",
        "(train_images, train_labels), (test_images, test_labels) = mnist.load_data()    \n",
        "    \n",
        "train_images = train_images.astype(np.float32) / 255.\n",
        "test_images = test_images.astype(np.float32) / 255.\n",
        "train_images = np.expand_dims(train_images, axis=-1)\n",
        "test_images = np.expand_dims(test_images, axis=-1)\n",
        "    \n",
        "train_labels = to_categorical(train_labels, 10)\n",
        "test_labels = to_categorical(test_labels, 10)    \n",
        "    \n",
        "train_dataset = tf.data.Dataset.from_tensor_slices((train_images, train_labels)).shuffle(\n",
        "                buffer_size=100000).batch(batch_size)\n",
        "test_dataset = tf.data.Dataset.from_tensor_slices((test_images, test_labels)).batch(batch_size)"
      ],
      "execution_count": 21,
      "outputs": []
    },
    {
      "cell_type": "code",
      "metadata": {
        "id": "TnwwO0eLja--",
        "colab_type": "code",
        "colab": {}
      },
      "source": [
        "class MNISTModel(tf.keras.Model):\n",
        "    def __init__(self):\n",
        "        super(MNISTModel, self).__init__()\n",
        "        self.conv1 = keras.layers.Conv2D(filters=32, kernel_size=[3, 3], padding='SAME', activation=tf.nn.relu)\n",
        "        self.pool1 = keras.layers.MaxPool2D(padding='SAME')\n",
        "        self.conv2 = keras.layers.Conv2D(filters=64, kernel_size=[3, 3], padding='SAME', activation=tf.nn.relu)\n",
        "        self.pool2 = keras.layers.MaxPool2D(padding='SAME')\n",
        "        self.conv3 = keras.layers.Conv2D(filters=128, kernel_size=[3, 3], padding='SAME', activation=tf.nn.relu)\n",
        "        self.pool3 = keras.layers.MaxPool2D(padding='SAME')\n",
        "        self.pool3_flat = keras.layers.Flatten()\n",
        "        self.dense4 = keras.layers.Dense(units=256, activation=tf.nn.relu)\n",
        "        self.drop4 = keras.layers.Dropout(rate=0.4)\n",
        "        self.dense5 = keras.layers.Dense(units=10)\n",
        "    def call(self, inputs, training=False):\n",
        "        net = self.conv1(inputs)\n",
        "        net = self.pool1(net)\n",
        "        net = self.conv2(net)\n",
        "        net = self.pool2(net)\n",
        "        net = self.conv3(net)\n",
        "        net = self.pool3(net)\n",
        "        net = self.pool3_flat(net)\n",
        "        net = self.dense4(net)\n",
        "        net = self.drop4(net)\n",
        "        net = self.dense5(net)\n",
        "        return net"
      ],
      "execution_count": 22,
      "outputs": []
    },
    {
      "cell_type": "code",
      "metadata": {
        "id": "oRqnyLxal8Zu",
        "colab_type": "code",
        "colab": {}
      },
      "source": [
        "models = []\n",
        "num_models = 3\n",
        "for m in range(num_models):\n",
        "    models.append(MNISTModel())"
      ],
      "execution_count": 23,
      "outputs": []
    },
    {
      "cell_type": "code",
      "metadata": {
        "id": "zCvevQwDhxHN",
        "colab_type": "code",
        "colab": {}
      },
      "source": [
        "def loss_fn(model, images, labels):\n",
        "    logits = model(images, training=True)\n",
        "    loss = tf.reduce_mean(tf.keras.losses.categorical_crossentropy(\n",
        "        y_pred=logits, y_true=labels, from_logits=True))\n",
        "    return loss"
      ],
      "execution_count": 24,
      "outputs": []
    },
    {
      "cell_type": "code",
      "metadata": {
        "id": "8zzxNLhliANt",
        "colab_type": "code",
        "colab": {}
      },
      "source": [
        "def grad(model, images, labels):\n",
        "    with tf.GradientTape() as tape:\n",
        "        loss = loss_fn(model, images, labels)\n",
        "    return tape.gradient(loss, model.variables)\n"
      ],
      "execution_count": 25,
      "outputs": []
    },
    {
      "cell_type": "code",
      "metadata": {
        "colab_type": "code",
        "id": "DscW7c9DwTNE",
        "colab": {}
      },
      "source": [
        "def loss_fn(model, images, labels):\n",
        "    logits = model(images, training=True)\n",
        "    loss = tf.reduce_mean(tf.keras.losses.categorical_crossentropy(\n",
        "        y_pred=logits, y_true=labels, from_logits=True))\n",
        "    return loss"
      ],
      "execution_count": null,
      "outputs": []
    },
    {
      "cell_type": "code",
      "metadata": {
        "colab_type": "code",
        "id": "UMsHdlWowTNT",
        "colab": {}
      },
      "source": [
        "def grad(model, images, labels):\n",
        "    with tf.GradientTape() as tape:\n",
        "        loss = loss_fn(model, images, labels)\n",
        "    return tape.gradient(loss, model.variables)\n"
      ],
      "execution_count": null,
      "outputs": []
    },
    {
      "cell_type": "code",
      "metadata": {
        "id": "zgg5bbmPmOFP",
        "colab_type": "code",
        "colab": {}
      },
      "source": [
        "def evaluate(models, images, labels):\n",
        "    predictions = np.zeros_like(labels)\n",
        "    for model in models:\n",
        "        logits = model(images, training=False)\n",
        "        predictions += logits\n",
        "    correct_prediction = tf.equal(tf.argmax(predictions, 1), tf.argmax(labels, 1))\n",
        "    accuracy = tf.reduce_mean(tf.cast(correct_prediction, tf.float32))\n",
        "    return accuracy"
      ],
      "execution_count": 26,
      "outputs": []
    },
    {
      "cell_type": "code",
      "metadata": {
        "id": "6UuwBgASmQYQ",
        "colab_type": "code",
        "colab": {}
      },
      "source": [
        "optimizer = tf.keras.optimizers.Adam(learning_rate=learning_rate)"
      ],
      "execution_count": 27,
      "outputs": []
    },
    {
      "cell_type": "code",
      "metadata": {
        "id": "8zcUds7nmR6s",
        "colab_type": "code",
        "colab": {}
      },
      "source": [
        "checkpoints = []\n",
        "for m in range(num_models):\n",
        "    checkpoints.append(tf.train.Checkpoint(cnn=models[m]))"
      ],
      "execution_count": 28,
      "outputs": []
    },
    {
      "cell_type": "code",
      "metadata": {
        "id": "iSH7ZK1oiPZA",
        "colab_type": "code",
        "colab": {
          "base_uri": "https://localhost:8080/",
          "height": 281
        },
        "outputId": "9a79b34c-9e13-4ded-ab36-b90a8532b079"
      },
      "source": [
        "for epoch in range(training_epochs):\n",
        "    avg_loss = 0.\n",
        "    avg_train_acc = 0.\n",
        "    avg_test_acc = 0.\n",
        "    train_step = 0\n",
        "    test_step = 0    \n",
        "    \n",
        "    for images, labels in train_dataset:\n",
        "        for model in models:\n",
        "            grads = grad(model, images, labels)                \n",
        "            optimizer.apply_gradients(zip(grads, model.variables))\n",
        "            loss = loss_fn(model, images, labels)\n",
        "            avg_loss += loss / num_models\n",
        "        acc = evaluate(models, images, labels)\n",
        "        avg_train_acc += acc\n",
        "        train_step += 1\n",
        "    avg_loss = avg_loss / train_step\n",
        "    avg_train_acc = avg_train_acc / train_step\n",
        "    \n",
        "    for images, labels in test_dataset:        \n",
        "        acc = evaluate(models, images, labels)        \n",
        "        avg_test_acc += acc\n",
        "        test_step += 1    \n",
        "    avg_test_acc = avg_test_acc / test_step    \n",
        "\n",
        "    print('Epoch:', '{}'.format(epoch + 1), 'loss =', '{:.8f}'.format(avg_loss), \n",
        "          'train accuracy = ', '{:.4f}'.format(avg_train_acc), \n",
        "          'test accuracy = ', '{:.4f}'.format(avg_test_acc))\n",
        "    \n",
        "    \n",
        "    for idx, checkpoint in enumerate(checkpoints):\n",
        "        checkpoint.save(file_prefix=checkpoint_prefix+'-{}'.format(idx))"
      ],
      "execution_count": 29,
      "outputs": [
        {
          "output_type": "stream",
          "text": [
            "Epoch: 1 loss = 0.16259250 train accuracy =  0.9652 test accuracy =  0.9895\n",
            "Epoch: 2 loss = 0.04021077 train accuracy =  0.9928 test accuracy =  0.9927\n",
            "Epoch: 3 loss = 0.02707679 train accuracy =  0.9955 test accuracy =  0.9932\n",
            "Epoch: 4 loss = 0.01998718 train accuracy =  0.9969 test accuracy =  0.9942\n",
            "Epoch: 5 loss = 0.01577025 train accuracy =  0.9981 test accuracy =  0.9928\n",
            "Epoch: 6 loss = 0.01348123 train accuracy =  0.9987 test accuracy =  0.9934\n",
            "Epoch: 7 loss = 0.01108496 train accuracy =  0.9990 test accuracy =  0.9945\n",
            "Epoch: 8 loss = 0.00966792 train accuracy =  0.9994 test accuracy =  0.9942\n",
            "Epoch: 9 loss = 0.00816088 train accuracy =  0.9994 test accuracy =  0.9934\n",
            "Epoch: 10 loss = 0.00728809 train accuracy =  0.9995 test accuracy =  0.9945\n",
            "Epoch: 11 loss = 0.00621700 train accuracy =  0.9997 test accuracy =  0.9953\n",
            "Epoch: 12 loss = 0.00576823 train accuracy =  0.9997 test accuracy =  0.9953\n",
            "Epoch: 13 loss = 0.00499596 train accuracy =  0.9998 test accuracy =  0.9953\n",
            "Epoch: 14 loss = 0.00460108 train accuracy =  0.9998 test accuracy =  0.9946\n",
            "Epoch: 15 loss = 0.00412649 train accuracy =  0.9999 test accuracy =  0.9954\n"
          ],
          "name": "stdout"
        }
      ]
    }
  ]
}