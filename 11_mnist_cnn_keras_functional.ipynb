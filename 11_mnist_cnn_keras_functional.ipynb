{
  "nbformat": 4,
  "nbformat_minor": 0,
  "metadata": {
    "colab": {
      "name": "11.mnist_cnn_keras_functional.ipynb",
      "provenance": [],
      "mount_file_id": "1SvLInLOJzrYONO64zHXutAxz9QNMk2Va",
      "authorship_tag": "ABX9TyM+Rt1NujuqXcS3D8yddZZr",
      "include_colab_link": true
    },
    "kernelspec": {
      "name": "python3",
      "display_name": "Python 3"
    },
    "accelerator": "GPU"
  },
  "cells": [
    {
      "cell_type": "markdown",
      "metadata": {
        "id": "view-in-github",
        "colab_type": "text"
      },
      "source": [
        "<a href=\"https://colab.research.google.com/github/JaeHeee/Tensorflow_practice/blob/master/11_mnist_cnn_keras_functional.ipynb\" target=\"_parent\"><img src=\"https://colab.research.google.com/assets/colab-badge.svg\" alt=\"Open In Colab\"/></a>"
      ]
    },
    {
      "cell_type": "code",
      "metadata": {
        "id": "sgGNv7rSfj5a",
        "colab_type": "code",
        "colab": {}
      },
      "source": [
        "import tensorflow as tf\n",
        "from tensorflow import keras\n",
        "from tensorflow.keras.utils import to_categorical\n",
        "import numpy as np\n",
        "import matplotlib.pyplot as plt\n",
        "import os"
      ],
      "execution_count": 7,
      "outputs": []
    },
    {
      "cell_type": "code",
      "metadata": {
        "id": "SSTw3LaIgPT3",
        "colab_type": "code",
        "colab": {}
      },
      "source": [
        "learning_rate = 0.001\n",
        "training_epochs = 15\n",
        "batch_size = 100\n",
        "\n",
        "tf.random.set_seed(777)"
      ],
      "execution_count": 8,
      "outputs": []
    },
    {
      "cell_type": "code",
      "metadata": {
        "id": "RifCkYHCgUUg",
        "colab_type": "code",
        "colab": {}
      },
      "source": [
        "ckpt_dir_name = './drive/My Drive/Colab Notebooks/tensorflow/checkpoints'\n",
        "model_dir_name = 'minst_cnn_func'\n",
        "\n",
        "checkpoint_dir = os.path.join(ckpt_dir_name, model_dir_name)\n",
        "\n",
        "checkpoint_prefix = os.path.join(checkpoint_dir, model_dir_name)"
      ],
      "execution_count": 10,
      "outputs": []
    },
    {
      "cell_type": "code",
      "metadata": {
        "id": "wQm1VQFngrL4",
        "colab_type": "code",
        "colab": {
          "base_uri": "https://localhost:8080/",
          "height": 52
        },
        "outputId": "5b2563cf-4744-4a44-9744-84c44240ffa1"
      },
      "source": [
        "mnist = keras.datasets.mnist\n",
        "\n",
        "(train_images, train_labels), (test_images, test_labels) = mnist.load_data()    \n",
        "    \n",
        "train_images = train_images.astype(np.float32) / 255.\n",
        "test_images = test_images.astype(np.float32) / 255.\n",
        "train_images = np.expand_dims(train_images, axis=-1)\n",
        "test_images = np.expand_dims(test_images, axis=-1)\n",
        "    \n",
        "train_labels = to_categorical(train_labels, 10)\n",
        "test_labels = to_categorical(test_labels, 10)    \n",
        "    \n",
        "train_dataset = tf.data.Dataset.from_tensor_slices((train_images, train_labels)).shuffle(\n",
        "                buffer_size=100000).batch(batch_size)\n",
        "test_dataset = tf.data.Dataset.from_tensor_slices((test_images, test_labels)).batch(batch_size)"
      ],
      "execution_count": 11,
      "outputs": [
        {
          "output_type": "stream",
          "text": [
            "Downloading data from https://storage.googleapis.com/tensorflow/tf-keras-datasets/mnist.npz\n",
            "11493376/11490434 [==============================] - 0s 0us/step\n"
          ],
          "name": "stdout"
        }
      ]
    },
    {
      "cell_type": "code",
      "metadata": {
        "id": "TnwwO0eLja--",
        "colab_type": "code",
        "colab": {}
      },
      "source": [
        "def create_model():\n",
        "    inputs = keras.Input(shape=(28, 28, 1))\n",
        "    conv1 = keras.layers.Conv2D(filters=32, kernel_size=[3, 3], padding='SAME', activation=tf.nn.relu)(inputs)\n",
        "    pool1 = keras.layers.MaxPool2D(padding='SAME')(conv1)\n",
        "    conv2 = keras.layers.Conv2D(filters=64, kernel_size=[3, 3], padding='SAME', activation=tf.nn.relu)(pool1)\n",
        "    pool2 = keras.layers.MaxPool2D(padding='SAME')(conv2)\n",
        "    conv3 = keras.layers.Conv2D(filters=128, kernel_size=[3, 3], padding='SAME', activation=tf.nn.relu)(pool2)\n",
        "    pool3 = keras.layers.MaxPool2D(padding='SAME')(conv3)\n",
        "    pool3_flat = keras.layers.Flatten()(pool3)\n",
        "    dense4 = keras.layers.Dense(units=256, activation=tf.nn.relu)(pool3_flat)\n",
        "    drop4 = keras.layers.Dropout(rate=0.4)(dense4)\n",
        "    logits = keras.layers.Dense(units=10)(drop4)\n",
        "    return keras.Model(inputs=inputs, outputs=logits)"
      ],
      "execution_count": 12,
      "outputs": []
    },
    {
      "cell_type": "code",
      "metadata": {
        "id": "09tqXjQQhtLS",
        "colab_type": "code",
        "colab": {
          "base_uri": "https://localhost:8080/",
          "height": 545
        },
        "outputId": "02ca6b02-0250-4b0e-a5ce-d6cff0aa2990"
      },
      "source": [
        "model = create_model()\n",
        "model.summary()"
      ],
      "execution_count": 13,
      "outputs": [
        {
          "output_type": "stream",
          "text": [
            "Model: \"model\"\n",
            "_________________________________________________________________\n",
            "Layer (type)                 Output Shape              Param #   \n",
            "=================================================================\n",
            "input_1 (InputLayer)         [(None, 28, 28, 1)]       0         \n",
            "_________________________________________________________________\n",
            "conv2d (Conv2D)              (None, 28, 28, 32)        320       \n",
            "_________________________________________________________________\n",
            "max_pooling2d (MaxPooling2D) (None, 14, 14, 32)        0         \n",
            "_________________________________________________________________\n",
            "conv2d_1 (Conv2D)            (None, 14, 14, 64)        18496     \n",
            "_________________________________________________________________\n",
            "max_pooling2d_1 (MaxPooling2 (None, 7, 7, 64)          0         \n",
            "_________________________________________________________________\n",
            "conv2d_2 (Conv2D)            (None, 7, 7, 128)         73856     \n",
            "_________________________________________________________________\n",
            "max_pooling2d_2 (MaxPooling2 (None, 4, 4, 128)         0         \n",
            "_________________________________________________________________\n",
            "flatten (Flatten)            (None, 2048)              0         \n",
            "_________________________________________________________________\n",
            "dense (Dense)                (None, 256)               524544    \n",
            "_________________________________________________________________\n",
            "dropout (Dropout)            (None, 256)               0         \n",
            "_________________________________________________________________\n",
            "dense_1 (Dense)              (None, 10)                2570      \n",
            "=================================================================\n",
            "Total params: 619,786\n",
            "Trainable params: 619,786\n",
            "Non-trainable params: 0\n",
            "_________________________________________________________________\n"
          ],
          "name": "stdout"
        }
      ]
    },
    {
      "cell_type": "code",
      "metadata": {
        "id": "zCvevQwDhxHN",
        "colab_type": "code",
        "colab": {}
      },
      "source": [
        "@tf.function\n",
        "def loss_fn(model, images, labels):\n",
        "    logits = model(images, training=True)\n",
        "    loss = tf.reduce_mean(tf.keras.losses.categorical_crossentropy(\n",
        "        y_pred=logits, y_true=labels, from_logits=True))    \n",
        "    return loss"
      ],
      "execution_count": 14,
      "outputs": []
    },
    {
      "cell_type": "code",
      "metadata": {
        "id": "8zzxNLhliANt",
        "colab_type": "code",
        "colab": {}
      },
      "source": [
        "@tf.function\n",
        "def grad(model, images, labels):\n",
        "    with tf.GradientTape() as tape:\n",
        "        loss = loss_fn(model, images, labels)\n",
        "    return tape.gradient(loss, model.variables)"
      ],
      "execution_count": 15,
      "outputs": []
    },
    {
      "cell_type": "code",
      "metadata": {
        "id": "3wWIGb9giBv7",
        "colab_type": "code",
        "colab": {}
      },
      "source": [
        "@tf.function\n",
        "def evaluate(model, images, labels):\n",
        "    logits = model(images, training=False)\n",
        "    correct_prediction = tf.equal(tf.argmax(logits, 1), tf.argmax(labels, 1))\n",
        "    accuracy = tf.reduce_mean(tf.cast(correct_prediction, tf.float32))\n",
        "    return accuracy"
      ],
      "execution_count": 16,
      "outputs": []
    },
    {
      "cell_type": "code",
      "metadata": {
        "id": "ORbVHEiOiKsm",
        "colab_type": "code",
        "colab": {}
      },
      "source": [
        "optimizer = tf.keras.optimizers.Adam(learning_rate=learning_rate)\n",
        "checkpoint = tf.train.Checkpoint(cnn=model)"
      ],
      "execution_count": 17,
      "outputs": []
    },
    {
      "cell_type": "code",
      "metadata": {
        "id": "jDvZ7-3JiNin",
        "colab_type": "code",
        "colab": {}
      },
      "source": [
        "@tf.function\n",
        "def train(model, images, labels):\n",
        "    grads = grad(model, images, labels)\n",
        "    optimizer.apply_gradients(zip(grads, model.trainable_variables))"
      ],
      "execution_count": 18,
      "outputs": []
    },
    {
      "cell_type": "code",
      "metadata": {
        "id": "iSH7ZK1oiPZA",
        "colab_type": "code",
        "colab": {
          "base_uri": "https://localhost:8080/",
          "height": 281
        },
        "outputId": "1b575d90-018b-455b-eef4-b7e4b1c981fb"
      },
      "source": [
        "for epoch in range(training_epochs):\n",
        "    avg_loss = 0.\n",
        "    avg_train_acc = 0.\n",
        "    avg_test_acc = 0.\n",
        "    train_step = 0\n",
        "    test_step = 0    \n",
        "    \n",
        "    for images, labels in train_dataset:\n",
        "        train(model, images, labels)\n",
        "        loss = loss_fn(model, images, labels)\n",
        "        acc = evaluate(model, images, labels)\n",
        "        avg_loss = avg_loss + loss\n",
        "        avg_train_acc = avg_train_acc + acc\n",
        "        train_step += 1\n",
        "    avg_loss = avg_loss / train_step\n",
        "    avg_train_acc = avg_train_acc / train_step\n",
        "    \n",
        "    for images, labels in test_dataset:        \n",
        "        acc = evaluate(model, images, labels)        \n",
        "        avg_test_acc = avg_test_acc + acc\n",
        "        test_step += 1    \n",
        "    avg_test_acc = avg_test_acc / test_step    \n",
        "\n",
        "    print('Epoch:', '{}'.format(epoch + 1), 'loss =', '{:.8f}'.format(avg_loss), \n",
        "          'train accuracy = ', '{:.4f}'.format(avg_train_acc), \n",
        "          'test accuracy = ', '{:.4f}'.format(avg_test_acc))\n",
        "    \n",
        "    checkpoint.save(file_prefix=checkpoint_prefix)"
      ],
      "execution_count": 19,
      "outputs": [
        {
          "output_type": "stream",
          "text": [
            "Epoch: 1 loss = 0.16284408 train accuracy =  0.9597 test accuracy =  0.9862\n",
            "Epoch: 2 loss = 0.03894605 train accuracy =  0.9903 test accuracy =  0.9902\n",
            "Epoch: 3 loss = 0.02558541 train accuracy =  0.9936 test accuracy =  0.9915\n",
            "Epoch: 4 loss = 0.01813901 train accuracy =  0.9954 test accuracy =  0.9919\n",
            "Epoch: 5 loss = 0.01388167 train accuracy =  0.9966 test accuracy =  0.9922\n",
            "Epoch: 6 loss = 0.01165242 train accuracy =  0.9972 test accuracy =  0.9931\n",
            "Epoch: 7 loss = 0.00865785 train accuracy =  0.9981 test accuracy =  0.9924\n",
            "Epoch: 8 loss = 0.00710387 train accuracy =  0.9985 test accuracy =  0.9924\n",
            "Epoch: 9 loss = 0.00580818 train accuracy =  0.9986 test accuracy =  0.9914\n",
            "Epoch: 10 loss = 0.00501718 train accuracy =  0.9989 test accuracy =  0.9916\n",
            "Epoch: 11 loss = 0.00462034 train accuracy =  0.9990 test accuracy =  0.9924\n",
            "Epoch: 12 loss = 0.00322186 train accuracy =  0.9993 test accuracy =  0.9931\n",
            "Epoch: 13 loss = 0.00290846 train accuracy =  0.9993 test accuracy =  0.9943\n",
            "Epoch: 14 loss = 0.00267405 train accuracy =  0.9995 test accuracy =  0.9937\n",
            "Epoch: 15 loss = 0.00233988 train accuracy =  0.9996 test accuracy =  0.9935\n"
          ],
          "name": "stdout"
        }
      ]
    },
    {
      "cell_type": "code",
      "metadata": {
        "id": "jVmMPI_GrmjE",
        "colab_type": "code",
        "colab": {}
      },
      "source": [
        ""
      ],
      "execution_count": 6,
      "outputs": []
    }
  ]
}