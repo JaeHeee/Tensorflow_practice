{
  "nbformat": 4,
  "nbformat_minor": 0,
  "metadata": {
    "colab": {
      "name": "Untitled15.ipynb",
      "provenance": [],
      "authorship_tag": "ABX9TyPOiVL3jpqy76KNWw6AsXH5",
      "include_colab_link": true
    },
    "kernelspec": {
      "name": "python3",
      "display_name": "Python 3"
    }
  },
  "cells": [
    {
      "cell_type": "markdown",
      "metadata": {
        "id": "view-in-github",
        "colab_type": "text"
      },
      "source": [
        "<a href=\"https://colab.research.google.com/github/JaeHeee/Tensorflow_practice/blob/master/Linear%20Regression%20and%20How%20to%20minimize%20cost.ipynb\" target=\"_parent\"><img src=\"https://colab.research.google.com/assets/colab-badge.svg\" alt=\"Open In Colab\"/></a>"
      ]
    },
    {
      "cell_type": "code",
      "metadata": {
        "id": "_DKYabI4DSQ2",
        "colab_type": "code",
        "colab": {}
      },
      "source": [
        "import tensorflow as tf"
      ],
      "execution_count": 0,
      "outputs": []
    },
    {
      "cell_type": "markdown",
      "metadata": {
        "id": "FZxKwmC5CMkx",
        "colab_type": "text"
      },
      "source": [
        "Cost function in pure Python"
      ]
    },
    {
      "cell_type": "code",
      "metadata": {
        "id": "KUo3J1QfCSWI",
        "colab_type": "code",
        "colab": {
          "base_uri": "https://localhost:8080/",
          "height": 281
        },
        "outputId": "c2a89877-f63e-4d8b-b66f-6dbcd5258d78"
      },
      "source": [
        "import numpy as np\n",
        "\n",
        "X = np.array([1,2,3])\n",
        "Y = np.array([1,2,3])\n",
        "\n",
        "def cost_func(W, X, Y):\n",
        "    c = 0\n",
        "    for i in range(len(X)):\n",
        "        c += (W*X[i] - Y[i])**2\n",
        "    return c / len(X)\n",
        "\n",
        "for feed_W in np.linspace(-3, 5, num=15): # linspace -3 ~ 5 사이를 15개 구간으로 나눈다.\n",
        "    curr_cost = cost_func(feed_W, X, Y)\n",
        "    print(\"{:6.3f} | {:10.5f}\".format(feed_W, curr_cost))"
      ],
      "execution_count": 5,
      "outputs": [
        {
          "output_type": "stream",
          "text": [
            "-3.000 |   74.66667\n",
            "-2.429 |   54.85714\n",
            "-1.857 |   38.09524\n",
            "-1.286 |   24.38095\n",
            "-0.714 |   13.71429\n",
            "-0.143 |    6.09524\n",
            " 0.429 |    1.52381\n",
            " 1.000 |    0.00000\n",
            " 1.571 |    1.52381\n",
            " 2.143 |    6.09524\n",
            " 2.714 |   13.71429\n",
            " 3.286 |   24.38095\n",
            " 3.857 |   38.09524\n",
            " 4.429 |   54.85714\n",
            " 5.000 |   74.66667\n"
          ],
          "name": "stdout"
        }
      ]
    },
    {
      "cell_type": "markdown",
      "metadata": {
        "id": "114GbOfYDYBe",
        "colab_type": "text"
      },
      "source": [
        "Cost function in TensorFlow"
      ]
    },
    {
      "cell_type": "code",
      "metadata": {
        "id": "W-WKNRGeDWqU",
        "colab_type": "code",
        "colab": {
          "base_uri": "https://localhost:8080/",
          "height": 281
        },
        "outputId": "f802756a-c827-4b38-c848-cb478b5eae27"
      },
      "source": [
        "X = np.array([1,2,3])\n",
        "Y = np.array([1,2,3])\n",
        "\n",
        "def cost_func(W, X, Y):\n",
        "    hypothesis = X * W\n",
        "    return tf.reduce_mean(tf.square(hypothesis - Y))\n",
        "\n",
        "W_values = np.linspace(-3, 5, num=15)\n",
        "cost_values = []\n",
        "\n",
        "for feed_W in W_values:\n",
        "    curr_cost = cost_func(feed_W, X, Y)\n",
        "    cost_values.append(curr_cost)\n",
        "    print(\"{:6.3f} | {:10.5f}\".format(feed_W, curr_cost))"
      ],
      "execution_count": 8,
      "outputs": [
        {
          "output_type": "stream",
          "text": [
            "-3.000 |   74.66667\n",
            "-2.429 |   54.85714\n",
            "-1.857 |   38.09524\n",
            "-1.286 |   24.38095\n",
            "-0.714 |   13.71429\n",
            "-0.143 |    6.09524\n",
            " 0.429 |    1.52381\n",
            " 1.000 |    0.00000\n",
            " 1.571 |    1.52381\n",
            " 2.143 |    6.09524\n",
            " 2.714 |   13.71429\n",
            " 3.286 |   24.38095\n",
            " 3.857 |   38.09524\n",
            " 4.429 |   54.85714\n",
            " 5.000 |   74.66667\n"
          ],
          "name": "stdout"
        }
      ]
    },
    {
      "cell_type": "markdown",
      "metadata": {
        "id": "sZfITgBbD_P2",
        "colab_type": "text"
      },
      "source": [
        "Gradient descent"
      ]
    },
    {
      "cell_type": "code",
      "metadata": {
        "id": "dslLv0g1D5S6",
        "colab_type": "code",
        "colab": {}
      },
      "source": [
        "alpha = 0.01\n",
        "gradient = tf.reduce_mean(tf.multiply(tf.multiply(W, X) - Y, X))\n",
        "descent = W - tf.multiply(alpha, gradient)\n",
        "W.assign(descent)"
      ],
      "execution_count": 0,
      "outputs": []
    },
    {
      "cell_type": "code",
      "metadata": {
        "id": "0xot3_BlEWV3",
        "colab_type": "code",
        "colab": {
          "base_uri": "https://localhost:8080/",
          "height": 582
        },
        "outputId": "595812e2-d0d9-4c02-afb2-88ff4993e125"
      },
      "source": [
        "tf.random.set_seed(0) # 다음에 이 코드를 다시 수행했을 때도 동일하게 진행되도록\n",
        "\n",
        "x_data = [1., 2., 3., 4.]\n",
        "y_data = [1., 3., 5., 7.]\n",
        "\n",
        "W = tf.Variable(tf.random.normal([1], -100., 100.)) # 정규분포를 따르는 1개짜리\n",
        "\n",
        "for step in range(300):\n",
        "    hypothesis = W * X\n",
        "    cost = tf.reduce_mean(tf.square(hypothesis - Y))\n",
        "\n",
        "    alpha = 0.01\n",
        "    gradient = tf.reduce_mean(tf.multiply(tf.multiply(W, X) - Y, X))\n",
        "    descent = W - tf.multiply(alpha, gradient)\n",
        "    W.assign(descent)\n",
        "\n",
        "    if step % 10 == 0:\n",
        "        print(\"{:5} | {:10.4f} | {:10.6f}\".format(step, cost.numpy(), W.numpy()[0]))"
      ],
      "execution_count": 18,
      "outputs": [
        {
          "output_type": "stream",
          "text": [
            "<tf.Variable 'Variable:0' shape=(1,) dtype=float32, numpy=array([51.106262], dtype=float32)>\n",
            "    0 | 11716.3086 |  48.767971\n",
            "   10 |  4504.9126 |  30.619968\n",
            "   20 |  1732.1364 |  19.366755\n",
            "   30 |   666.0052 |  12.388859\n",
            "   40 |   256.0785 |   8.062004\n",
            "   50 |    98.4620 |   5.379007\n",
            "   60 |    37.8586 |   3.715335\n",
            "   70 |    14.5566 |   2.683725\n",
            "   80 |     5.5970 |   2.044044\n",
            "   90 |     2.1520 |   1.647391\n",
            "  100 |     0.8275 |   1.401434\n",
            "  110 |     0.3182 |   1.248922\n",
            "  120 |     0.1223 |   1.154351\n",
            "  130 |     0.0470 |   1.095710\n",
            "  140 |     0.0181 |   1.059348\n",
            "  150 |     0.0070 |   1.036801\n",
            "  160 |     0.0027 |   1.022819\n",
            "  170 |     0.0010 |   1.014150\n",
            "  180 |     0.0004 |   1.008774\n",
            "  190 |     0.0002 |   1.005441\n",
            "  200 |     0.0001 |   1.003374\n",
            "  210 |     0.0000 |   1.002092\n",
            "  220 |     0.0000 |   1.001297\n",
            "  230 |     0.0000 |   1.000804\n",
            "  240 |     0.0000 |   1.000499\n",
            "  250 |     0.0000 |   1.000309\n",
            "  260 |     0.0000 |   1.000192\n",
            "  270 |     0.0000 |   1.000119\n",
            "  280 |     0.0000 |   1.000074\n",
            "  290 |     0.0000 |   1.000046\n"
          ],
          "name": "stdout"
        }
      ]
    },
    {
      "cell_type": "code",
      "metadata": {
        "id": "Pvyo6zzlFQmP",
        "colab_type": "code",
        "colab": {}
      },
      "source": [
        ""
      ],
      "execution_count": 0,
      "outputs": []
    }
  ]
}