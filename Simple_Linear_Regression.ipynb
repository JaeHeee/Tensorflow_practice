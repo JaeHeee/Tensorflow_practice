{
  "nbformat": 4,
  "nbformat_minor": 0,
  "metadata": {
    "colab": {
      "name": "Simple Linear Regression",
      "provenance": [],
      "authorship_tag": "ABX9TyO8t/lCd0LTiR5TZE6yqitQ",
      "include_colab_link": true
    },
    "kernelspec": {
      "name": "python3",
      "display_name": "Python 3"
    }
  },
  "cells": [
    {
      "cell_type": "markdown",
      "metadata": {
        "id": "view-in-github",
        "colab_type": "text"
      },
      "source": [
        "<a href=\"https://colab.research.google.com/github/JaeHeee/Tensorflow_practice/blob/master/Simple_Linear_Regression.ipynb\" target=\"_parent\"><img src=\"https://colab.research.google.com/assets/colab-badge.svg\" alt=\"Open In Colab\"/></a>"
      ]
    },
    {
      "cell_type": "code",
      "metadata": {
        "id": "xbbAiopxZauc",
        "colab_type": "code",
        "colab": {}
      },
      "source": [
        "import tensorflow as tf"
      ],
      "execution_count": 0,
      "outputs": []
    },
    {
      "cell_type": "markdown",
      "metadata": {
        "id": "jVAgZdfFZOqE",
        "colab_type": "text"
      },
      "source": [
        "H(x) Wx + b"
      ]
    },
    {
      "cell_type": "code",
      "metadata": {
        "id": "mFj4s2gpYwYW",
        "colab_type": "code",
        "colab": {}
      },
      "source": [
        "x_data = [1,2,3,4,5]\n",
        "y_data = [1,2,3,4,5]\n",
        "\n",
        "W = tf.Variable(2.9)\n",
        "b = tf.Variable(0.5)\n",
        "\n",
        "# hypothesis = W * x + b\n",
        "hypothesis = W * x_data + b"
      ],
      "execution_count": 0,
      "outputs": []
    },
    {
      "cell_type": "markdown",
      "metadata": {
        "id": "TxiqaTLpaGVZ",
        "colab_type": "text"
      },
      "source": [
        "cost(W,b)"
      ]
    },
    {
      "cell_type": "code",
      "metadata": {
        "id": "Xxm2Um79aFCj",
        "colab_type": "code",
        "colab": {}
      },
      "source": [
        "cost = tf.reduce_mean(tf.square(hypothesis - y_data))"
      ],
      "execution_count": 0,
      "outputs": []
    },
    {
      "cell_type": "markdown",
      "metadata": {
        "id": "h146qmW4aXRI",
        "colab_type": "text"
      },
      "source": [
        "\n",
        "\n",
        "> tf.reduce_mean()\n",
        "\n"
      ]
    },
    {
      "cell_type": "code",
      "metadata": {
        "id": "N2iMrnDnaQJx",
        "colab_type": "code",
        "colab": {
          "base_uri": "https://localhost:8080/",
          "height": 34
        },
        "outputId": "85282519-fd94-4536-e61b-8b939ae0738a"
      },
      "source": [
        "v = [1., 2., 3., 4.]\n",
        "tf.reduce_mean(v) # 2.5"
      ],
      "execution_count": 14,
      "outputs": [
        {
          "output_type": "execute_result",
          "data": {
            "text/plain": [
              "<tf.Tensor: shape=(), dtype=float32, numpy=2.5>"
            ]
          },
          "metadata": {
            "tags": []
          },
          "execution_count": 14
        }
      ]
    },
    {
      "cell_type": "markdown",
      "metadata": {
        "id": "VWlvI2jdaovp",
        "colab_type": "text"
      },
      "source": [
        "\n",
        "\n",
        "> tf.square()\n"
      ]
    },
    {
      "cell_type": "code",
      "metadata": {
        "id": "m6bgKreYalCD",
        "colab_type": "code",
        "colab": {
          "base_uri": "https://localhost:8080/",
          "height": 34
        },
        "outputId": "13957968-5aba-45a0-809c-06f54ba47453"
      },
      "source": [
        "tf.square(3) # 9 "
      ],
      "execution_count": 15,
      "outputs": [
        {
          "output_type": "execute_result",
          "data": {
            "text/plain": [
              "<tf.Tensor: shape=(), dtype=int32, numpy=9>"
            ]
          },
          "metadata": {
            "tags": []
          },
          "execution_count": 15
        }
      ]
    },
    {
      "cell_type": "markdown",
      "metadata": {
        "id": "WXqu6q2IaxZD",
        "colab_type": "text"
      },
      "source": [
        "Gradient descent - minimize cost(W,b)"
      ]
    },
    {
      "cell_type": "code",
      "metadata": {
        "id": "Zn8ncuhNaukb",
        "colab_type": "code",
        "colab": {
          "base_uri": "https://localhost:8080/",
          "height": 34
        },
        "outputId": "9750be1d-09c1-4074-d7ac-44f595bff392"
      },
      "source": [
        "# learning_rate initialize\n",
        "learning_rate =0.01\n",
        "\n",
        "# Gradient descent\n",
        "with tf.GradientTape() as tape: # 블럭안의 변수의 변화를 테이프에 기록\n",
        "    hypothesis = W*x_data +b\n",
        "    cost = tf.reduce_mean(tf.square(hypothesis - y_data))\n",
        "\n",
        "W_grad, b_grad = tape.gradient(cost, [W,b]) # cost 함수에 대해서 W,b에 대한 그레디언트 구한다.\n",
        "\n",
        "W.assign_sub(learning_rate * W_grad) # W -= (learning_rate * W_grad)\n",
        "b.assign_sub(learning_rate * b_grad) # b -= (learning_rate * b_grad)"
      ],
      "execution_count": 16,
      "outputs": [
        {
          "output_type": "execute_result",
          "data": {
            "text/plain": [
              "<tf.Variable 'UnreadVariable' shape=() dtype=float32, numpy=0.376>"
            ]
          },
          "metadata": {
            "tags": []
          },
          "execution_count": 16
        }
      ]
    },
    {
      "cell_type": "markdown",
      "metadata": {
        "id": "qkOyWHTTcEVR",
        "colab_type": "text"
      },
      "source": [
        "Parameter(W,b) Update"
      ]
    },
    {
      "cell_type": "code",
      "metadata": {
        "id": "tQ7-nY2Ubal1",
        "colab_type": "code",
        "colab": {
          "base_uri": "https://localhost:8080/",
          "height": 193
        },
        "outputId": "c1c1ba0f-e51a-4817-b896-84373d074db2"
      },
      "source": [
        "W = tf.Variable(2.9)\n",
        "b = tf.Variable(0.5)\n",
        "\n",
        "for i in range(100):\n",
        "    # Gradient descent\n",
        "    with tf.GradientTape() as tape:\n",
        "        hypothesis = W*x_data +b\n",
        "        cost = tf.reduce_mean(tf.square(hypothesis - y_data))\n",
        "\n",
        "    W_grad, b_grad = tape.gradient(cost, [W,b]) \n",
        "    W.assign_sub(learning_rate * W_grad)\n",
        "    b.assign_sub(learning_rate * b_grad)\n",
        "    if i % 10 == 0:\n",
        "        print(\"{:5}|{:10.4}|{:10.4}|{:10.6f}\".format(i, W.numpy(), b.numpy(), cost))"
      ],
      "execution_count": 17,
      "outputs": [
        {
          "output_type": "stream",
          "text": [
            "    0|     2.452|     0.376| 45.660004\n",
            "   10|     1.104|  0.003398|  0.206336\n",
            "   20|     1.013|  -0.02091|  0.001026\n",
            "   30|     1.007|  -0.02184|  0.000093\n",
            "   40|     1.006|  -0.02123|  0.000083\n",
            "   50|     1.006|  -0.02053|  0.000077\n",
            "   60|     1.005|  -0.01984|  0.000072\n",
            "   70|     1.005|  -0.01918|  0.000067\n",
            "   80|     1.005|  -0.01854|  0.000063\n",
            "   90|     1.005|  -0.01793|  0.000059\n"
          ],
          "name": "stdout"
        }
      ]
    },
    {
      "cell_type": "markdown",
      "metadata": {
        "id": "QV_Ad8TMcxVo",
        "colab_type": "text"
      },
      "source": [
        "Full Code"
      ]
    },
    {
      "cell_type": "code",
      "metadata": {
        "id": "Gfk_cD1Ucnf7",
        "colab_type": "code",
        "colab": {
          "base_uri": "https://localhost:8080/",
          "height": 210
        },
        "outputId": "13e9b423-2946-4c6e-c4b6-ca1d005dffad"
      },
      "source": [
        "import tensorflow as tf\n",
        "\n",
        "# Data\n",
        "x_data = [1,2,3,4,5]\n",
        "y_data = [1,2,3,4,5]\n",
        "\n",
        "# W, b initialize\n",
        "W = tf.Variable(2.9)\n",
        "b = tf.Variable(0.5)\n",
        "\n",
        "learning_rate =0.01\n",
        "\n",
        "for i in range(100+1): # W, b update\n",
        "    # Gradient descent\n",
        "    with tf.GradientTape() as tape:\n",
        "        hypothesis = W*x_data +b\n",
        "        cost = tf.reduce_mean(tf.square(hypothesis - y_data))\n",
        "    W_grad, b_grad = tape.gradient(cost, [W,b]) \n",
        "    W.assign_sub(learning_rate * W_grad)\n",
        "    b.assign_sub(learning_rate * b_grad)\n",
        "    if i % 10 == 0:\n",
        "        print(\"{:5}|{:10.4}|{:10.4}|{:10.6f}\".format(i, W.numpy(), b.numpy(), cost))"
      ],
      "execution_count": 21,
      "outputs": [
        {
          "output_type": "stream",
          "text": [
            "    0|     2.452|     0.376| 45.660004\n",
            "   10|     1.104|  0.003398|  0.206336\n",
            "   20|     1.013|  -0.02091|  0.001026\n",
            "   30|     1.007|  -0.02184|  0.000093\n",
            "   40|     1.006|  -0.02123|  0.000083\n",
            "   50|     1.006|  -0.02053|  0.000077\n",
            "   60|     1.005|  -0.01984|  0.000072\n",
            "   70|     1.005|  -0.01918|  0.000067\n",
            "   80|     1.005|  -0.01854|  0.000063\n",
            "   90|     1.005|  -0.01793|  0.000059\n",
            "  100|     1.005|  -0.01733|  0.000055\n"
          ],
          "name": "stdout"
        }
      ]
    },
    {
      "cell_type": "markdown",
      "metadata": {
        "id": "ybIJLEcnefo6",
        "colab_type": "text"
      },
      "source": [
        "Predict"
      ]
    },
    {
      "cell_type": "code",
      "metadata": {
        "id": "O4DmPWPydat7",
        "colab_type": "code",
        "colab": {
          "base_uri": "https://localhost:8080/",
          "height": 52
        },
        "outputId": "c69e7e38-e3e2-4078-a259-9d09268b5cc8"
      },
      "source": [
        "print(W * 5 + b)\n",
        "print(W * 2.5 + b)"
      ],
      "execution_count": 22,
      "outputs": [
        {
          "output_type": "stream",
          "text": [
            "tf.Tensor(5.00667, shape=(), dtype=float32)\n",
            "tf.Tensor(2.4946702, shape=(), dtype=float32)\n"
          ],
          "name": "stdout"
        }
      ]
    },
    {
      "cell_type": "code",
      "metadata": {
        "id": "UUighq6oesl6",
        "colab_type": "code",
        "colab": {}
      },
      "source": [
        ""
      ],
      "execution_count": 0,
      "outputs": []
    }
  ]
}