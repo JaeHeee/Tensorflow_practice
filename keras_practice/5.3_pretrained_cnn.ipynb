{
  "nbformat": 4,
  "nbformat_minor": 0,
  "metadata": {
    "colab": {
      "name": "Untitled1.ipynb",
      "provenance": [],
      "mount_file_id": "1cQNFsRKezkuFkwEqlZGHv1gz_VswZQoy",
      "authorship_tag": "ABX9TyNrrRufwGJ8u9VUspGoxOHg",
      "include_colab_link": true
    },
    "kernelspec": {
      "name": "python3",
      "display_name": "Python 3"
    },
    "accelerator": "GPU"
  },
  "cells": [
    {
      "cell_type": "markdown",
      "metadata": {
        "id": "view-in-github",
        "colab_type": "text"
      },
      "source": [
        "<a href=\"https://colab.research.google.com/github/JaeHeee/Tensorflow_practice/blob/master/keras_practice/5.3_pretrained_cnn.ipynb\" target=\"_parent\"><img src=\"https://colab.research.google.com/assets/colab-badge.svg\" alt=\"Open In Colab\"/></a>"
      ]
    },
    {
      "cell_type": "code",
      "metadata": {
        "id": "4Y_lX0INLQPE",
        "colab_type": "code",
        "outputId": "e282c92c-312c-4337-ae71-824e4b6c5f4a",
        "colab": {
          "base_uri": "https://localhost:8080/",
          "height": 70
        }
      },
      "source": [
        "from keras.applications import VGG16\n",
        "\n",
        "conv_base = VGG16(weights = 'imagenet',\n",
        "                  include_top=False, # 최상위 완전 연결 분류기 포함 여부\n",
        "                  input_shape=(150,150,3))"
      ],
      "execution_count": 1,
      "outputs": [
        {
          "output_type": "stream",
          "text": [
            "Using TensorFlow backend.\n"
          ],
          "name": "stderr"
        },
        {
          "output_type": "stream",
          "text": [
            "Downloading data from https://github.com/fchollet/deep-learning-models/releases/download/v0.1/vgg16_weights_tf_dim_ordering_tf_kernels_notop.h5\n",
            "58892288/58889256 [==============================] - 6s 0us/step\n"
          ],
          "name": "stdout"
        }
      ]
    },
    {
      "cell_type": "code",
      "metadata": {
        "id": "OlX0cvYhMsFS",
        "colab_type": "code",
        "outputId": "4e0e9e19-8726-4acd-ecd7-13c81c462238",
        "colab": {
          "base_uri": "https://localhost:8080/",
          "height": 826
        }
      },
      "source": [
        "conv_base.summary()"
      ],
      "execution_count": 2,
      "outputs": [
        {
          "output_type": "stream",
          "text": [
            "Model: \"vgg16\"\n",
            "_________________________________________________________________\n",
            "Layer (type)                 Output Shape              Param #   \n",
            "=================================================================\n",
            "input_1 (InputLayer)         (None, 150, 150, 3)       0         \n",
            "_________________________________________________________________\n",
            "block1_conv1 (Conv2D)        (None, 150, 150, 64)      1792      \n",
            "_________________________________________________________________\n",
            "block1_conv2 (Conv2D)        (None, 150, 150, 64)      36928     \n",
            "_________________________________________________________________\n",
            "block1_pool (MaxPooling2D)   (None, 75, 75, 64)        0         \n",
            "_________________________________________________________________\n",
            "block2_conv1 (Conv2D)        (None, 75, 75, 128)       73856     \n",
            "_________________________________________________________________\n",
            "block2_conv2 (Conv2D)        (None, 75, 75, 128)       147584    \n",
            "_________________________________________________________________\n",
            "block2_pool (MaxPooling2D)   (None, 37, 37, 128)       0         \n",
            "_________________________________________________________________\n",
            "block3_conv1 (Conv2D)        (None, 37, 37, 256)       295168    \n",
            "_________________________________________________________________\n",
            "block3_conv2 (Conv2D)        (None, 37, 37, 256)       590080    \n",
            "_________________________________________________________________\n",
            "block3_conv3 (Conv2D)        (None, 37, 37, 256)       590080    \n",
            "_________________________________________________________________\n",
            "block3_pool (MaxPooling2D)   (None, 18, 18, 256)       0         \n",
            "_________________________________________________________________\n",
            "block4_conv1 (Conv2D)        (None, 18, 18, 512)       1180160   \n",
            "_________________________________________________________________\n",
            "block4_conv2 (Conv2D)        (None, 18, 18, 512)       2359808   \n",
            "_________________________________________________________________\n",
            "block4_conv3 (Conv2D)        (None, 18, 18, 512)       2359808   \n",
            "_________________________________________________________________\n",
            "block4_pool (MaxPooling2D)   (None, 9, 9, 512)         0         \n",
            "_________________________________________________________________\n",
            "block5_conv1 (Conv2D)        (None, 9, 9, 512)         2359808   \n",
            "_________________________________________________________________\n",
            "block5_conv2 (Conv2D)        (None, 9, 9, 512)         2359808   \n",
            "_________________________________________________________________\n",
            "block5_conv3 (Conv2D)        (None, 9, 9, 512)         2359808   \n",
            "_________________________________________________________________\n",
            "block5_pool (MaxPooling2D)   (None, 4, 4, 512)         0         \n",
            "=================================================================\n",
            "Total params: 14,714,688\n",
            "Trainable params: 14,714,688\n",
            "Non-trainable params: 0\n",
            "_________________________________________________________________\n"
          ],
          "name": "stdout"
        }
      ]
    },
    {
      "cell_type": "markdown",
      "metadata": {
        "id": "7bUXuwHRNHmz",
        "colab_type": "text"
      },
      "source": [
        "데이터 증식 사용하지 않는 빠른 특성 추출"
      ]
    },
    {
      "cell_type": "code",
      "metadata": {
        "id": "DfOeSe1wMumf",
        "colab_type": "code",
        "colab": {
          "base_uri": "https://localhost:8080/",
          "height": 70
        },
        "outputId": "3397a53d-491c-44aa-910e-2d81e3718812"
      },
      "source": [
        "import os\n",
        "import numpy as np\n",
        "from keras.preprocessing.image import ImageDataGenerator\n",
        "\n",
        "base_dir = './drive/My Drive/Colab Notebooks/cats_and_dogs_small'\n",
        "\n",
        "train_dir = os.path.join(base_dir, 'train')\n",
        "validation_dir = os.path.join(base_dir, 'validation')\n",
        "test_dir = os.path.join(base_dir, 'test')\n",
        "\n",
        "datagen = ImageDataGenerator(rescale=1./255)\n",
        "batch_size = 20\n",
        "\n",
        "def extract_features(directory, sample_count):\n",
        "    features = np.zeros(shape=(sample_count, 4, 4, 512))\n",
        "    labels = np.zeros(shape=(sample_count))\n",
        "    generator = datagen.flow_from_directory(\n",
        "        directory,\n",
        "        target_size=(150, 150),\n",
        "        batch_size=batch_size,\n",
        "        class_mode='binary')\n",
        "    i = 0\n",
        "    for inputs_batch, labels_batch in generator:\n",
        "        features_batch = conv_base.predict(inputs_batch)\n",
        "        features[i * batch_size : (i + 1) * batch_size] = features_batch\n",
        "        labels[i * batch_size : (i + 1) * batch_size] = labels_batch\n",
        "        i += 1\n",
        "        if i * batch_size >= sample_count:\n",
        "            # 제너레이터는 루프 안에서 무한하게 데이터를 만들어내므로 모든 이미지를 한 번씩 처리하고 나면 중지합니다\n",
        "            break\n",
        "    return features, labels\n",
        "\n",
        "train_features, train_labels = extract_features(train_dir, 2000)\n",
        "validation_features, validation_labels = extract_features(validation_dir, 1000)\n",
        "test_features, test_labels = extract_features(test_dir, 1000)"
      ],
      "execution_count": 4,
      "outputs": [
        {
          "output_type": "stream",
          "text": [
            "Found 2000 images belonging to 2 classes.\n",
            "Found 1000 images belonging to 2 classes.\n",
            "Found 1000 images belonging to 2 classes.\n"
          ],
          "name": "stdout"
        }
      ]
    },
    {
      "cell_type": "code",
      "metadata": {
        "id": "oyqm4maAN0Ds",
        "colab_type": "code",
        "colab": {}
      },
      "source": [
        "train_features = np.reshape(train_features, (2000, 4 * 4 * 512))\n",
        "validation_features = np.reshape(validation_features, (1000, 4 * 4 * 512))\n",
        "test_features = np.reshape(test_features, (1000, 4 * 4 * 512))"
      ],
      "execution_count": 0,
      "outputs": []
    },
    {
      "cell_type": "code",
      "metadata": {
        "id": "B0VwEU9iN9Rk",
        "colab_type": "code",
        "colab": {}
      },
      "source": [
        "from tensorflow import keras"
      ],
      "execution_count": 0,
      "outputs": []
    },
    {
      "cell_type": "code",
      "metadata": {
        "id": "Ko8FsB4EN4uG",
        "colab_type": "code",
        "colab": {
          "base_uri": "https://localhost:8080/",
          "height": 1000
        },
        "outputId": "8fa7dfea-00ef-4957-baf3-d6e15a71b3b6"
      },
      "source": [
        "model = keras.models.Sequential()\n",
        "model.add(keras.layers.Dense(256, activation='relu', input_dim=4*4*512))\n",
        "model.add(keras.layers.Dropout(0.5))\n",
        "model.add(keras.layers.Dense(1, activation='sigmoid'))\n",
        "\n",
        "model.compile(optimizer=keras.optimizers.RMSprop(lr=2e-5),\n",
        "              loss='binary_crossentropy',\n",
        "              metrics=['acc'])\n",
        "\n",
        "history = model.fit(train_features, train_labels,\n",
        "                    epochs=30,\n",
        "                    batch_size=20,\n",
        "                    validation_data=(validation_features, validation_labels))"
      ],
      "execution_count": 7,
      "outputs": [
        {
          "output_type": "stream",
          "text": [
            "Epoch 1/30\n",
            "100/100 [==============================] - 1s 6ms/step - loss: 0.5847 - acc: 0.6750 - val_loss: 0.4365 - val_acc: 0.8350\n",
            "Epoch 2/30\n",
            "100/100 [==============================] - 0s 5ms/step - loss: 0.4384 - acc: 0.7980 - val_loss: 0.3621 - val_acc: 0.8700\n",
            "Epoch 3/30\n",
            "100/100 [==============================] - 1s 5ms/step - loss: 0.3629 - acc: 0.8485 - val_loss: 0.3223 - val_acc: 0.8730\n",
            "Epoch 4/30\n",
            "100/100 [==============================] - 1s 5ms/step - loss: 0.3175 - acc: 0.8685 - val_loss: 0.2982 - val_acc: 0.8790\n",
            "Epoch 5/30\n",
            "100/100 [==============================] - 0s 5ms/step - loss: 0.2962 - acc: 0.8810 - val_loss: 0.2859 - val_acc: 0.8830\n",
            "Epoch 6/30\n",
            "100/100 [==============================] - 1s 5ms/step - loss: 0.2682 - acc: 0.8955 - val_loss: 0.2760 - val_acc: 0.8880\n",
            "Epoch 7/30\n",
            "100/100 [==============================] - 1s 5ms/step - loss: 0.2520 - acc: 0.9030 - val_loss: 0.2632 - val_acc: 0.8910\n",
            "Epoch 8/30\n",
            "100/100 [==============================] - 0s 5ms/step - loss: 0.2355 - acc: 0.9085 - val_loss: 0.2565 - val_acc: 0.8930\n",
            "Epoch 9/30\n",
            "100/100 [==============================] - 0s 5ms/step - loss: 0.2149 - acc: 0.9200 - val_loss: 0.2519 - val_acc: 0.8950\n",
            "Epoch 10/30\n",
            "100/100 [==============================] - 0s 5ms/step - loss: 0.2036 - acc: 0.9205 - val_loss: 0.2468 - val_acc: 0.8980\n",
            "Epoch 11/30\n",
            "100/100 [==============================] - 0s 5ms/step - loss: 0.1914 - acc: 0.9340 - val_loss: 0.2436 - val_acc: 0.9040\n",
            "Epoch 12/30\n",
            "100/100 [==============================] - 0s 5ms/step - loss: 0.1944 - acc: 0.9295 - val_loss: 0.2434 - val_acc: 0.8980\n",
            "Epoch 13/30\n",
            "100/100 [==============================] - 0s 5ms/step - loss: 0.1760 - acc: 0.9395 - val_loss: 0.2411 - val_acc: 0.8990\n",
            "Epoch 14/30\n",
            "100/100 [==============================] - 0s 4ms/step - loss: 0.1707 - acc: 0.9360 - val_loss: 0.2466 - val_acc: 0.9000\n",
            "Epoch 15/30\n",
            "100/100 [==============================] - 0s 4ms/step - loss: 0.1717 - acc: 0.9365 - val_loss: 0.2416 - val_acc: 0.9010\n",
            "Epoch 16/30\n",
            "100/100 [==============================] - 0s 4ms/step - loss: 0.1521 - acc: 0.9495 - val_loss: 0.2396 - val_acc: 0.9010\n",
            "Epoch 17/30\n",
            "100/100 [==============================] - 0s 4ms/step - loss: 0.1468 - acc: 0.9535 - val_loss: 0.2346 - val_acc: 0.9030\n",
            "Epoch 18/30\n",
            "100/100 [==============================] - 0s 4ms/step - loss: 0.1413 - acc: 0.9500 - val_loss: 0.2354 - val_acc: 0.9020\n",
            "Epoch 19/30\n",
            "100/100 [==============================] - 0s 4ms/step - loss: 0.1415 - acc: 0.9555 - val_loss: 0.2337 - val_acc: 0.8990\n",
            "Epoch 20/30\n",
            "100/100 [==============================] - 0s 4ms/step - loss: 0.1376 - acc: 0.9555 - val_loss: 0.2362 - val_acc: 0.9030\n",
            "Epoch 21/30\n",
            "100/100 [==============================] - 0s 4ms/step - loss: 0.1249 - acc: 0.9545 - val_loss: 0.2381 - val_acc: 0.9010\n",
            "Epoch 22/30\n",
            "100/100 [==============================] - 0s 4ms/step - loss: 0.1247 - acc: 0.9535 - val_loss: 0.2320 - val_acc: 0.9030\n",
            "Epoch 23/30\n",
            "100/100 [==============================] - 0s 4ms/step - loss: 0.1199 - acc: 0.9605 - val_loss: 0.2319 - val_acc: 0.9010\n",
            "Epoch 24/30\n",
            "100/100 [==============================] - 0s 5ms/step - loss: 0.1133 - acc: 0.9660 - val_loss: 0.2416 - val_acc: 0.8990\n",
            "Epoch 25/30\n",
            "100/100 [==============================] - 0s 5ms/step - loss: 0.1060 - acc: 0.9670 - val_loss: 0.2379 - val_acc: 0.8990\n",
            "Epoch 26/30\n",
            "100/100 [==============================] - 0s 5ms/step - loss: 0.1031 - acc: 0.9665 - val_loss: 0.2382 - val_acc: 0.9020\n",
            "Epoch 27/30\n",
            "100/100 [==============================] - 0s 4ms/step - loss: 0.0960 - acc: 0.9710 - val_loss: 0.2351 - val_acc: 0.9020\n",
            "Epoch 28/30\n",
            "100/100 [==============================] - 0s 4ms/step - loss: 0.0982 - acc: 0.9690 - val_loss: 0.2366 - val_acc: 0.9030\n",
            "Epoch 29/30\n",
            "100/100 [==============================] - 0s 4ms/step - loss: 0.0926 - acc: 0.9700 - val_loss: 0.2388 - val_acc: 0.9000\n",
            "Epoch 30/30\n",
            "100/100 [==============================] - 0s 4ms/step - loss: 0.0887 - acc: 0.9750 - val_loss: 0.2410 - val_acc: 0.9030\n"
          ],
          "name": "stdout"
        }
      ]
    },
    {
      "cell_type": "code",
      "metadata": {
        "id": "D6VSU4GwOxZy",
        "colab_type": "code",
        "colab": {
          "base_uri": "https://localhost:8080/",
          "height": 545
        },
        "outputId": "4b8fcc47-2f3f-4e55-bb03-4706e8ba8a18"
      },
      "source": [
        "import matplotlib.pyplot as plt\n",
        "\n",
        "acc = history.history['acc']\n",
        "val_acc = history.history['val_acc']\n",
        "loss = history.history['loss']\n",
        "val_loss = history.history['val_loss']\n",
        "\n",
        "epochs = range(1, len(acc)+1)\n",
        "\n",
        "plt.plot(epochs, acc, 'bo', label='Training acc')\n",
        "plt.plot(epochs, val_acc, 'b', label='Validation acc')\n",
        "plt.title('Training and validation accuracy')\n",
        "plt.legend()\n",
        "\n",
        "plt.figure()\n",
        "\n",
        "plt.plot(epochs, loss, 'bo', label='Training loss')\n",
        "plt.plot(epochs, val_loss, 'b', label='Validation loss')\n",
        "plt.title('Training and validation loss')\n",
        "plt.legend()\n",
        "\n",
        "plt.show()"
      ],
      "execution_count": 9,
      "outputs": [
        {
          "output_type": "display_data",
          "data": {
            "image/png": "[encoded data removed]",
            "text/plain": [
              "<Figure size 432x288 with 1 Axes>"
            ]
          },
          "metadata": {
            "tags": [],
            "needs_background": "light"
          }
        },
        {
          "output_type": "display_data",
          "data": {
            "image/png": "[encoded data removed]",
            "text/plain": [
              "<Figure size 432x288 with 1 Axes>"
            ]
          },
          "metadata": {
            "tags": [],
            "needs_background": "light"
          }
        }
      ]
    },
    {
      "cell_type": "code",
      "metadata": {
        "id": "LErSGVgbMXCG",
        "colab_type": "code",
        "colab": {}
      },
      "source": [
        "import keras"
      ],
      "execution_count": 0,
      "outputs": []
    },
    {
      "cell_type": "markdown",
      "metadata": {
        "id": "tckqFiUrO6L0",
        "colab_type": "text"
      },
      "source": [
        "데이터 증식을 사용한 특성 추출"
      ]
    },
    {
      "cell_type": "code",
      "metadata": {
        "id": "MgRTSQRZOOel",
        "colab_type": "code",
        "colab": {}
      },
      "source": [
        "model = keras.models.Sequential()\n",
        "model.add(conv_base)\n",
        "model.add(keras.layers.Flatten())\n",
        "model.add(keras.layers.Dense(256, activation='relu'))\n",
        "model.add(keras.layers.Dense(1, activation='sigmoid'))"
      ],
      "execution_count": 0,
      "outputs": []
    },
    {
      "cell_type": "code",
      "metadata": {
        "id": "b9nn7dPfPTYb",
        "colab_type": "code",
        "colab": {
          "base_uri": "https://localhost:8080/",
          "height": 298
        },
        "outputId": "f5f29f7c-073f-4e85-f389-372e739bf4df"
      },
      "source": [
        "model.summary()"
      ],
      "execution_count": 18,
      "outputs": [
        {
          "output_type": "stream",
          "text": [
            "Model: \"sequential_1\"\n",
            "_________________________________________________________________\n",
            "Layer (type)                 Output Shape              Param #   \n",
            "=================================================================\n",
            "vgg16 (Model)                (None, 4, 4, 512)         14714688  \n",
            "_________________________________________________________________\n",
            "flatten_1 (Flatten)          (None, 8192)              0         \n",
            "_________________________________________________________________\n",
            "dense_1 (Dense)              (None, 256)               2097408   \n",
            "_________________________________________________________________\n",
            "dense_2 (Dense)              (None, 1)                 257       \n",
            "=================================================================\n",
            "Total params: 16,812,353\n",
            "Trainable params: 16,812,353\n",
            "Non-trainable params: 0\n",
            "_________________________________________________________________\n"
          ],
          "name": "stdout"
        }
      ]
    },
    {
      "cell_type": "code",
      "metadata": {
        "id": "5zpsCS38PVL7",
        "colab_type": "code",
        "colab": {}
      },
      "source": [
        "conv_base.trainable = False"
      ],
      "execution_count": 0,
      "outputs": []
    },
    {
      "cell_type": "code",
      "metadata": {
        "id": "I-zvGMndQBim",
        "colab_type": "code",
        "colab": {
          "base_uri": "https://localhost:8080/",
          "height": 1000
        },
        "outputId": "56cdd9df-ed16-40bb-f956-832484de3abb"
      },
      "source": [
        "from keras.preprocessing.image import ImageDataGenerator\n",
        "\n",
        "train_datagen = ImageDataGenerator(\n",
        "      rescale=1./255,\n",
        "      rotation_range=20,\n",
        "      width_shift_range=0.1,\n",
        "      height_shift_range=0.1,\n",
        "      shear_range=0.1,\n",
        "      zoom_range=0.1,\n",
        "      horizontal_flip=True,\n",
        "      fill_mode='nearest')\n",
        "\n",
        "# 검증 데이터는 증식되어서는 안 됩니다!\n",
        "test_datagen = ImageDataGenerator(rescale=1./255)\n",
        "\n",
        "train_generator = train_datagen.flow_from_directory(\n",
        "        train_dir,\n",
        "        target_size=(150, 150),\n",
        "        batch_size=20,\n",
        "        class_mode='binary')\n",
        "\n",
        "validation_generator = test_datagen.flow_from_directory(\n",
        "        validation_dir,\n",
        "        target_size=(150, 150),\n",
        "        batch_size=20,\n",
        "        class_mode='binary')\n",
        "\n",
        "model.compile(loss='binary_crossentropy',\n",
        "              optimizer=keras.optimizers.RMSprop(lr=2e-5),\n",
        "              metrics=['acc'])\n",
        "\n",
        "history = model.fit_generator(\n",
        "      train_generator,\n",
        "      steps_per_epoch=100,\n",
        "      epochs=30,\n",
        "      validation_data=validation_generator,\n",
        "      validation_steps=50,\n",
        "      verbose=2)"
      ],
      "execution_count": 21,
      "outputs": [
        {
          "output_type": "stream",
          "text": [
            "Found 2000 images belonging to 2 classes.\n",
            "Found 1000 images belonging to 2 classes.\n",
            "Epoch 1/30\n",
            " - 23s - loss: 0.5548 - acc: 0.7445 - val_loss: 0.5224 - val_acc: 0.8320\n",
            "Epoch 2/30\n",
            " - 21s - loss: 0.4112 - acc: 0.8375 - val_loss: 0.2516 - val_acc: 0.8730\n",
            "Epoch 3/30\n",
            " - 21s - loss: 0.3548 - acc: 0.8525 - val_loss: 0.2540 - val_acc: 0.8660\n",
            "Epoch 4/30\n",
            " - 21s - loss: 0.3310 - acc: 0.8545 - val_loss: 0.2449 - val_acc: 0.8880\n",
            "Epoch 5/30\n",
            " - 21s - loss: 0.3170 - acc: 0.8695 - val_loss: 0.3237 - val_acc: 0.8930\n",
            "Epoch 6/30\n",
            " - 21s - loss: 0.2968 - acc: 0.8815 - val_loss: 0.3842 - val_acc: 0.8980\n",
            "Epoch 7/30\n",
            " - 21s - loss: 0.2840 - acc: 0.8850 - val_loss: 0.3340 - val_acc: 0.8970\n",
            "Epoch 8/30\n",
            " - 21s - loss: 0.2686 - acc: 0.8925 - val_loss: 0.3262 - val_acc: 0.8890\n",
            "Epoch 9/30\n",
            " - 21s - loss: 0.2592 - acc: 0.8965 - val_loss: 0.1394 - val_acc: 0.8940\n",
            "Epoch 10/30\n",
            " - 21s - loss: 0.2543 - acc: 0.8980 - val_loss: 0.3542 - val_acc: 0.8930\n",
            "Epoch 11/30\n",
            " - 21s - loss: 0.2460 - acc: 0.8965 - val_loss: 0.2540 - val_acc: 0.8980\n",
            "Epoch 12/30\n",
            " - 21s - loss: 0.2460 - acc: 0.9090 - val_loss: 0.0893 - val_acc: 0.8990\n",
            "Epoch 13/30\n",
            " - 22s - loss: 0.2364 - acc: 0.9095 - val_loss: 0.1403 - val_acc: 0.8960\n",
            "Epoch 14/30\n",
            " - 21s - loss: 0.2229 - acc: 0.9130 - val_loss: 0.4754 - val_acc: 0.9020\n",
            "Epoch 15/30\n",
            " - 21s - loss: 0.2303 - acc: 0.9010 - val_loss: 0.2354 - val_acc: 0.9000\n",
            "Epoch 16/30\n",
            " - 21s - loss: 0.2329 - acc: 0.9005 - val_loss: 0.1973 - val_acc: 0.9010\n",
            "Epoch 17/30\n",
            " - 21s - loss: 0.2249 - acc: 0.9120 - val_loss: 0.2690 - val_acc: 0.9000\n",
            "Epoch 18/30\n",
            " - 21s - loss: 0.2149 - acc: 0.9165 - val_loss: 0.2893 - val_acc: 0.8970\n",
            "Epoch 19/30\n",
            " - 21s - loss: 0.2153 - acc: 0.9150 - val_loss: 0.1101 - val_acc: 0.8960\n",
            "Epoch 20/30\n",
            " - 21s - loss: 0.2089 - acc: 0.9160 - val_loss: 0.2478 - val_acc: 0.9020\n",
            "Epoch 21/30\n",
            " - 21s - loss: 0.2107 - acc: 0.9135 - val_loss: 0.2196 - val_acc: 0.8910\n",
            "Epoch 22/30\n",
            " - 21s - loss: 0.2165 - acc: 0.9190 - val_loss: 0.2644 - val_acc: 0.9020\n",
            "Epoch 23/30\n",
            " - 21s - loss: 0.2065 - acc: 0.9140 - val_loss: 0.2089 - val_acc: 0.9030\n",
            "Epoch 24/30\n",
            " - 22s - loss: 0.1916 - acc: 0.9225 - val_loss: 0.1436 - val_acc: 0.9030\n",
            "Epoch 25/30\n",
            " - 21s - loss: 0.2048 - acc: 0.9130 - val_loss: 0.1014 - val_acc: 0.9020\n",
            "Epoch 26/30\n",
            " - 22s - loss: 0.2057 - acc: 0.9125 - val_loss: 0.1977 - val_acc: 0.9000\n",
            "Epoch 27/30\n",
            " - 22s - loss: 0.1965 - acc: 0.9155 - val_loss: 0.0708 - val_acc: 0.9010\n",
            "Epoch 28/30\n",
            " - 22s - loss: 0.1867 - acc: 0.9295 - val_loss: 0.0979 - val_acc: 0.9050\n",
            "Epoch 29/30\n",
            " - 22s - loss: 0.1931 - acc: 0.9225 - val_loss: 0.1642 - val_acc: 0.9020\n",
            "Epoch 30/30\n",
            " - 22s - loss: 0.1834 - acc: 0.9270 - val_loss: 0.2864 - val_acc: 0.8970\n"
          ],
          "name": "stdout"
        }
      ]
    },
    {
      "cell_type": "code",
      "metadata": {
        "id": "g7hHyfdGQuXY",
        "colab_type": "code",
        "colab": {
          "base_uri": "https://localhost:8080/",
          "height": 545
        },
        "outputId": "7e9e00c5-168c-4c22-d8c3-55a50270ddfb"
      },
      "source": [
        "import matplotlib.pyplot as plt\n",
        "\n",
        "acc = history.history['acc']\n",
        "val_acc = history.history['val_acc']\n",
        "loss = history.history['loss']\n",
        "val_loss = history.history['val_loss']\n",
        "\n",
        "epochs = range(1, len(acc)+1)\n",
        "\n",
        "plt.plot(epochs, acc, 'bo', label='Training acc')\n",
        "plt.plot(epochs, val_acc, 'b', label='Validation acc')\n",
        "plt.title('Training and validation accuracy')\n",
        "plt.legend()\n",
        "\n",
        "plt.figure()\n",
        "\n",
        "plt.plot(epochs, loss, 'bo', label='Training loss')\n",
        "plt.plot(epochs, val_loss, 'b', label='Validation loss')\n",
        "plt.title('Training and validation loss')\n",
        "plt.legend()\n",
        "\n",
        "plt.show()"
      ],
      "execution_count": 22,
      "outputs": [
        {
          "output_type": "display_data",
          "data": {
            "image/png": "[encoded data removed]",
            "text/plain": [
              "<Figure size 432x288 with 1 Axes>"
            ]
          },
          "metadata": {
            "tags": [],
            "needs_background": "light"
          }
        },
        {
          "output_type": "display_data",
          "data": {
            "image/png": "[encoded data removed]",
            "text/plain": [
              "<Figure size 432x288 with 1 Axes>"
            ]
          },
          "metadata": {
            "tags": [],
            "needs_background": "light"
          }
        }
      ]
    },
    {
      "cell_type": "markdown",
      "metadata": {
        "id": "83976Po0Qz35",
        "colab_type": "text"
      },
      "source": [
        "fine tuning"
      ]
    },
    {
      "cell_type": "code",
      "metadata": {
        "id": "cIop4JdkQuq8",
        "colab_type": "code",
        "colab": {}
      },
      "source": [
        "conv_base.trainable = True\n",
        "\n",
        "set_trainable = False\n",
        "for layer in conv_base.layers:\n",
        "    if layer.name == 'block5_conv1':\n",
        "        set_trainable = True\n",
        "    if set_trainable:\n",
        "        layer.trainable = True\n",
        "    else:\n",
        "        layer.trainable = False"
      ],
      "execution_count": 0,
      "outputs": []
    },
    {
      "cell_type": "code",
      "metadata": {
        "id": "4IZStr31Rye-",
        "colab_type": "code",
        "colab": {
          "base_uri": "https://localhost:8080/",
          "height": 1000
        },
        "outputId": "54b5791b-078e-4a4b-f211-c7d97bfc691c"
      },
      "source": [
        "model.compile(loss='binary_crossentropy',\n",
        "              optimizer=keras.optimizers.RMSprop(lr=1e-5),\n",
        "              metrics=['acc'])\n",
        "\n",
        "history = model.fit_generator(\n",
        "      train_generator,\n",
        "      steps_per_epoch=100,\n",
        "      epochs=100,\n",
        "      validation_data=validation_generator,\n",
        "      validation_steps=50,\n",
        "      verbose=2)"
      ],
      "execution_count": 25,
      "outputs": [
        {
          "output_type": "stream",
          "text": [
            "Epoch 1/100\n",
            " - 25s - loss: 0.2005 - acc: 0.9190 - val_loss: 0.0524 - val_acc: 0.9170\n",
            "Epoch 2/100\n",
            " - 23s - loss: 0.1619 - acc: 0.9390 - val_loss: 0.4877 - val_acc: 0.9100\n",
            "Epoch 3/100\n",
            " - 23s - loss: 0.1325 - acc: 0.9535 - val_loss: 0.0345 - val_acc: 0.9160\n",
            "Epoch 4/100\n",
            " - 23s - loss: 0.1288 - acc: 0.9515 - val_loss: 0.2756 - val_acc: 0.9190\n",
            "Epoch 5/100\n",
            " - 23s - loss: 0.1061 - acc: 0.9615 - val_loss: 0.2436 - val_acc: 0.9180\n",
            "Epoch 6/100\n",
            " - 23s - loss: 0.0950 - acc: 0.9625 - val_loss: 0.3411 - val_acc: 0.9010\n",
            "Epoch 7/100\n",
            " - 23s - loss: 0.0830 - acc: 0.9685 - val_loss: 0.0364 - val_acc: 0.9210\n",
            "Epoch 8/100\n",
            " - 23s - loss: 0.0710 - acc: 0.9710 - val_loss: 0.1221 - val_acc: 0.9220\n",
            "Epoch 9/100\n",
            " - 24s - loss: 0.0640 - acc: 0.9785 - val_loss: 0.3756 - val_acc: 0.9290\n",
            "Epoch 10/100\n",
            " - 23s - loss: 0.0604 - acc: 0.9770 - val_loss: 0.0295 - val_acc: 0.9210\n",
            "Epoch 11/100\n",
            " - 23s - loss: 0.0586 - acc: 0.9820 - val_loss: 0.4818 - val_acc: 0.9050\n",
            "Epoch 12/100\n",
            " - 23s - loss: 0.0452 - acc: 0.9850 - val_loss: 0.0947 - val_acc: 0.9230\n",
            "Epoch 13/100\n",
            " - 23s - loss: 0.0420 - acc: 0.9855 - val_loss: 0.1968 - val_acc: 0.9290\n",
            "Epoch 14/100\n",
            " - 23s - loss: 0.0434 - acc: 0.9865 - val_loss: 0.3881 - val_acc: 0.9290\n",
            "Epoch 15/100\n",
            " - 23s - loss: 0.0282 - acc: 0.9900 - val_loss: 0.5283 - val_acc: 0.9210\n",
            "Epoch 16/100\n",
            " - 23s - loss: 0.0269 - acc: 0.9930 - val_loss: 0.0763 - val_acc: 0.9280\n",
            "Epoch 17/100\n",
            " - 23s - loss: 0.0312 - acc: 0.9895 - val_loss: 0.6357 - val_acc: 0.9320\n",
            "Epoch 18/100\n",
            " - 23s - loss: 0.0280 - acc: 0.9910 - val_loss: 0.4125 - val_acc: 0.9330\n",
            "Epoch 19/100\n",
            " - 23s - loss: 0.0211 - acc: 0.9930 - val_loss: 0.1613 - val_acc: 0.9120\n",
            "Epoch 20/100\n",
            " - 23s - loss: 0.0274 - acc: 0.9920 - val_loss: 0.2553 - val_acc: 0.9250\n",
            "Epoch 21/100\n",
            " - 23s - loss: 0.0267 - acc: 0.9930 - val_loss: 1.2051 - val_acc: 0.9130\n",
            "Epoch 22/100\n",
            " - 24s - loss: 0.0204 - acc: 0.9925 - val_loss: 0.0713 - val_acc: 0.9280\n",
            "Epoch 23/100\n",
            " - 23s - loss: 0.0211 - acc: 0.9935 - val_loss: 0.0350 - val_acc: 0.9310\n",
            "Epoch 24/100\n",
            " - 23s - loss: 0.0198 - acc: 0.9945 - val_loss: 0.0924 - val_acc: 0.9210\n",
            "Epoch 25/100\n",
            " - 23s - loss: 0.0125 - acc: 0.9970 - val_loss: 0.0728 - val_acc: 0.9350\n",
            "Epoch 26/100\n",
            " - 23s - loss: 0.0144 - acc: 0.9960 - val_loss: 0.0224 - val_acc: 0.9340\n",
            "Epoch 27/100\n",
            " - 23s - loss: 0.0178 - acc: 0.9920 - val_loss: 4.6724e-06 - val_acc: 0.9300\n",
            "Epoch 28/100\n",
            " - 23s - loss: 0.0181 - acc: 0.9920 - val_loss: 0.1275 - val_acc: 0.9280\n",
            "Epoch 29/100\n",
            " - 23s - loss: 0.0146 - acc: 0.9965 - val_loss: 0.0077 - val_acc: 0.9270\n",
            "Epoch 30/100\n",
            " - 23s - loss: 0.0089 - acc: 0.9970 - val_loss: 0.5638 - val_acc: 0.9250\n",
            "Epoch 31/100\n",
            " - 23s - loss: 0.0118 - acc: 0.9965 - val_loss: 0.3416 - val_acc: 0.9280\n",
            "Epoch 32/100\n",
            " - 23s - loss: 0.0101 - acc: 0.9950 - val_loss: 0.4010 - val_acc: 0.9320\n",
            "Epoch 33/100\n",
            " - 23s - loss: 0.0100 - acc: 0.9970 - val_loss: 0.0869 - val_acc: 0.9340\n",
            "Epoch 34/100\n",
            " - 23s - loss: 0.0089 - acc: 0.9970 - val_loss: 0.3275 - val_acc: 0.9260\n",
            "Epoch 35/100\n",
            " - 23s - loss: 0.0121 - acc: 0.9975 - val_loss: 0.7649 - val_acc: 0.9310\n",
            "Epoch 36/100\n",
            " - 24s - loss: 0.0098 - acc: 0.9980 - val_loss: 0.0667 - val_acc: 0.9200\n",
            "Epoch 37/100\n",
            " - 23s - loss: 0.0068 - acc: 0.9985 - val_loss: 0.2706 - val_acc: 0.9220\n",
            "Epoch 38/100\n",
            " - 23s - loss: 0.0043 - acc: 0.9985 - val_loss: 0.5902 - val_acc: 0.9340\n",
            "Epoch 39/100\n",
            " - 23s - loss: 0.0040 - acc: 0.9990 - val_loss: 0.3377 - val_acc: 0.9230\n",
            "Epoch 40/100\n",
            " - 23s - loss: 0.0046 - acc: 0.9995 - val_loss: 0.3318 - val_acc: 0.9320\n",
            "Epoch 41/100\n",
            " - 23s - loss: 0.0100 - acc: 0.9970 - val_loss: 0.2753 - val_acc: 0.9270\n",
            "Epoch 42/100\n",
            " - 23s - loss: 0.0079 - acc: 0.9980 - val_loss: 0.4589 - val_acc: 0.9320\n",
            "Epoch 43/100\n",
            " - 23s - loss: 0.0036 - acc: 0.9990 - val_loss: 0.6190 - val_acc: 0.9260\n",
            "Epoch 44/100\n",
            " - 23s - loss: 0.0071 - acc: 0.9985 - val_loss: 0.4874 - val_acc: 0.9280\n",
            "Epoch 45/100\n",
            " - 23s - loss: 0.0103 - acc: 0.9955 - val_loss: 0.2429 - val_acc: 0.9170\n",
            "Epoch 46/100\n",
            " - 23s - loss: 0.0068 - acc: 0.9975 - val_loss: 1.0272 - val_acc: 0.9330\n",
            "Epoch 47/100\n",
            " - 23s - loss: 0.0055 - acc: 0.9985 - val_loss: 0.3726 - val_acc: 0.9180\n",
            "Epoch 48/100\n",
            " - 23s - loss: 0.0024 - acc: 0.9995 - val_loss: 0.0020 - val_acc: 0.9320\n",
            "Epoch 49/100\n",
            " - 24s - loss: 0.0063 - acc: 0.9970 - val_loss: 0.4210 - val_acc: 0.9300\n",
            "Epoch 50/100\n",
            " - 23s - loss: 0.0072 - acc: 0.9970 - val_loss: 0.0037 - val_acc: 0.9330\n",
            "Epoch 51/100\n",
            " - 23s - loss: 0.0110 - acc: 0.9975 - val_loss: 1.3258 - val_acc: 0.9270\n",
            "Epoch 52/100\n",
            " - 23s - loss: 0.0029 - acc: 0.9995 - val_loss: 2.0013 - val_acc: 0.9270\n",
            "Epoch 53/100\n",
            " - 23s - loss: 0.0052 - acc: 0.9980 - val_loss: 0.8600 - val_acc: 0.9370\n",
            "Epoch 54/100\n",
            " - 23s - loss: 0.0040 - acc: 0.9985 - val_loss: 0.8164 - val_acc: 0.9310\n",
            "Epoch 55/100\n",
            " - 23s - loss: 0.0054 - acc: 0.9985 - val_loss: 0.6343 - val_acc: 0.9190\n",
            "Epoch 56/100\n",
            " - 23s - loss: 0.0030 - acc: 0.9990 - val_loss: 1.0064 - val_acc: 0.9380\n",
            "Epoch 57/100\n",
            " - 23s - loss: 0.0039 - acc: 0.9985 - val_loss: 0.1439 - val_acc: 0.9290\n",
            "Epoch 58/100\n",
            " - 23s - loss: 0.0013 - acc: 0.9995 - val_loss: 0.1855 - val_acc: 0.9330\n",
            "Epoch 59/100\n",
            " - 23s - loss: 0.0078 - acc: 0.9975 - val_loss: 0.0197 - val_acc: 0.9360\n",
            "Epoch 60/100\n",
            " - 23s - loss: 0.0040 - acc: 0.9995 - val_loss: 0.0288 - val_acc: 0.9200\n",
            "Epoch 61/100\n",
            " - 23s - loss: 0.0074 - acc: 0.9985 - val_loss: 0.0198 - val_acc: 0.9340\n",
            "Epoch 62/100\n",
            " - 23s - loss: 0.0031 - acc: 0.9985 - val_loss: 1.1451 - val_acc: 0.9180\n",
            "Epoch 63/100\n",
            " - 23s - loss: 0.0114 - acc: 0.9970 - val_loss: 0.1358 - val_acc: 0.9380\n",
            "Epoch 64/100\n",
            " - 23s - loss: 0.0013 - acc: 1.0000 - val_loss: 0.0960 - val_acc: 0.9150\n",
            "Epoch 65/100\n",
            " - 23s - loss: 0.0061 - acc: 0.9975 - val_loss: 0.4993 - val_acc: 0.9270\n",
            "Epoch 66/100\n",
            " - 23s - loss: 0.0028 - acc: 0.9985 - val_loss: 0.3991 - val_acc: 0.9320\n",
            "Epoch 67/100\n",
            " - 23s - loss: 9.6771e-04 - acc: 1.0000 - val_loss: 0.0149 - val_acc: 0.9220\n",
            "Epoch 68/100\n",
            " - 23s - loss: 0.0041 - acc: 0.9990 - val_loss: 0.0162 - val_acc: 0.9340\n",
            "Epoch 69/100\n",
            " - 23s - loss: 0.0044 - acc: 0.9985 - val_loss: 3.0323 - val_acc: 0.9230\n",
            "Epoch 70/100\n",
            " - 23s - loss: 0.0046 - acc: 0.9980 - val_loss: 0.2794 - val_acc: 0.9310\n",
            "Epoch 71/100\n",
            " - 23s - loss: 0.0083 - acc: 0.9965 - val_loss: 0.9189 - val_acc: 0.9290\n",
            "Epoch 72/100\n",
            " - 23s - loss: 0.0022 - acc: 0.9995 - val_loss: 0.5226 - val_acc: 0.9350\n",
            "Epoch 73/100\n",
            " - 23s - loss: 0.0027 - acc: 0.9990 - val_loss: 0.9294 - val_acc: 0.9280\n",
            "Epoch 74/100\n",
            " - 23s - loss: 0.0084 - acc: 0.9980 - val_loss: 1.2194 - val_acc: 0.9180\n",
            "Epoch 75/100\n",
            " - 23s - loss: 8.5463e-04 - acc: 1.0000 - val_loss: 0.3048 - val_acc: 0.9330\n",
            "Epoch 76/100\n",
            " - 23s - loss: 0.0030 - acc: 0.9985 - val_loss: 0.0150 - val_acc: 0.9320\n",
            "Epoch 77/100\n",
            " - 23s - loss: 0.0020 - acc: 0.9995 - val_loss: 2.8378e-04 - val_acc: 0.9300\n",
            "Epoch 78/100\n",
            " - 23s - loss: 0.0035 - acc: 0.9975 - val_loss: 0.3332 - val_acc: 0.9300\n",
            "Epoch 79/100\n",
            " - 23s - loss: 0.0031 - acc: 0.9985 - val_loss: 0.6423 - val_acc: 0.9280\n",
            "Epoch 80/100\n",
            " - 23s - loss: 0.0020 - acc: 0.9990 - val_loss: 0.0139 - val_acc: 0.9160\n",
            "Epoch 81/100\n",
            " - 23s - loss: 0.0074 - acc: 0.9975 - val_loss: 0.0765 - val_acc: 0.9330\n",
            "Epoch 82/100\n",
            " - 23s - loss: 0.0035 - acc: 0.9995 - val_loss: 0.1317 - val_acc: 0.9290\n",
            "Epoch 83/100\n",
            " - 23s - loss: 0.0033 - acc: 0.9985 - val_loss: 0.9208 - val_acc: 0.9300\n",
            "Epoch 84/100\n",
            " - 23s - loss: 6.4045e-04 - acc: 1.0000 - val_loss: 0.5049 - val_acc: 0.9350\n",
            "Epoch 85/100\n",
            " - 23s - loss: 0.0018 - acc: 0.9995 - val_loss: 0.1901 - val_acc: 0.9340\n",
            "Epoch 86/100\n",
            " - 23s - loss: 0.0018 - acc: 0.9995 - val_loss: 0.7774 - val_acc: 0.9230\n",
            "Epoch 87/100\n",
            " - 23s - loss: 6.5533e-04 - acc: 1.0000 - val_loss: 0.2323 - val_acc: 0.9300\n",
            "Epoch 88/100\n",
            " - 23s - loss: 0.0032 - acc: 0.9975 - val_loss: 0.4652 - val_acc: 0.9300\n",
            "Epoch 89/100\n",
            " - 23s - loss: 0.0015 - acc: 1.0000 - val_loss: 0.2691 - val_acc: 0.9310\n",
            "Epoch 90/100\n",
            " - 23s - loss: 0.0023 - acc: 0.9990 - val_loss: 7.9154e-04 - val_acc: 0.9310\n",
            "Epoch 91/100\n",
            " - 23s - loss: 7.7193e-04 - acc: 0.9995 - val_loss: 0.8392 - val_acc: 0.9310\n",
            "Epoch 92/100\n",
            " - 23s - loss: 0.0025 - acc: 0.9995 - val_loss: 0.4419 - val_acc: 0.9300\n",
            "Epoch 93/100\n",
            " - 23s - loss: 0.0035 - acc: 0.9980 - val_loss: 0.6061 - val_acc: 0.9330\n",
            "Epoch 94/100\n",
            " - 23s - loss: 0.0029 - acc: 0.9990 - val_loss: 1.3001 - val_acc: 0.9280\n",
            "Epoch 95/100\n",
            " - 23s - loss: 0.0016 - acc: 0.9985 - val_loss: 3.7153e-04 - val_acc: 0.9260\n",
            "Epoch 96/100\n",
            " - 23s - loss: 0.0024 - acc: 0.9990 - val_loss: 0.4691 - val_acc: 0.9260\n",
            "Epoch 97/100\n",
            " - 23s - loss: 0.0016 - acc: 0.9995 - val_loss: 0.2166 - val_acc: 0.9250\n",
            "Epoch 98/100\n",
            " - 23s - loss: 0.0035 - acc: 0.9980 - val_loss: 0.0032 - val_acc: 0.9300\n",
            "Epoch 99/100\n",
            " - 23s - loss: 2.6396e-04 - acc: 1.0000 - val_loss: 0.2446 - val_acc: 0.9310\n",
            "Epoch 100/100\n",
            " - 23s - loss: 0.0020 - acc: 0.9995 - val_loss: 0.0291 - val_acc: 0.9360\n"
          ],
          "name": "stdout"
        }
      ]
    },
    {
      "cell_type": "code",
      "metadata": {
        "id": "NHQz7l5-SsjG",
        "colab_type": "code",
        "colab": {
          "base_uri": "https://localhost:8080/",
          "height": 545
        },
        "outputId": "c582efa2-f101-454f-f8fc-ca839cb68dc8"
      },
      "source": [
        "import matplotlib.pyplot as plt\n",
        "\n",
        "acc = history.history['acc']\n",
        "val_acc = history.history['val_acc']\n",
        "loss = history.history['loss']\n",
        "val_loss = history.history['val_loss']\n",
        "\n",
        "epochs = range(1, len(acc)+1)\n",
        "\n",
        "plt.plot(epochs, acc, 'bo', label='Training acc')\n",
        "plt.plot(epochs, val_acc, 'b', label='Validation acc')\n",
        "plt.title('Training and validation accuracy')\n",
        "plt.legend()\n",
        "\n",
        "plt.figure()\n",
        "\n",
        "plt.plot(epochs, loss, 'bo', label='Training loss')\n",
        "plt.plot(epochs, val_loss, 'b', label='Validation loss')\n",
        "plt.title('Training and validation loss')\n",
        "plt.legend()\n",
        "\n",
        "plt.show()"
      ],
      "execution_count": 26,
      "outputs": [
        {
          "output_type": "display_data",
          "data": {
            "image/png": "[encoded data removed]",
            "text/plain": [
              "<Figure size 432x288 with 1 Axes>"
            ]
          },
          "metadata": {
            "tags": [],
            "needs_background": "light"
          }
        },
        {
          "output_type": "display_data",
          "data": {
            "image/png": "[encoded data removed]",
            "text/plain": [
              "<Figure size 432x288 with 1 Axes>"
            ]
          },
          "metadata": {
            "tags": [],
            "needs_background": "light"
          }
        }
      ]
    },
    {
      "cell_type": "code",
      "metadata": {
        "id": "DECBthqlSeyJ",
        "colab_type": "code",
        "colab": {
          "base_uri": "https://localhost:8080/",
          "height": 545
        },
        "outputId": "ee996ed3-e094-4bc3-aa1e-302961972f68"
      },
      "source": [
        "def smooth_curve(points, factor=0.8):\n",
        "  smoothed_points = []\n",
        "  for point in points:\n",
        "    if smoothed_points:\n",
        "      previous = smoothed_points[-1]\n",
        "      smoothed_points.append(previous * factor + point * (1 - factor))\n",
        "    else:\n",
        "      smoothed_points.append(point)\n",
        "  return smoothed_points\n",
        "\n",
        "plt.plot(epochs,\n",
        "         smooth_curve(acc), 'bo', label='Smoothed training acc')\n",
        "plt.plot(epochs,\n",
        "         smooth_curve(val_acc), 'b', label='Smoothed validation acc')\n",
        "plt.title('Training and validation accuracy')\n",
        "plt.legend()\n",
        "\n",
        "plt.figure()\n",
        "\n",
        "plt.plot(epochs,\n",
        "         smooth_curve(loss), 'bo', label='Smoothed training loss')\n",
        "plt.plot(epochs,\n",
        "         smooth_curve(val_loss), 'b', label='Smoothed validation loss')\n",
        "plt.title('Training and validation loss')\n",
        "plt.legend()\n",
        "\n",
        "plt.show()"
      ],
      "execution_count": 27,
      "outputs": [
        {
          "output_type": "display_data",
          "data": {
            "image/png": "[encoded data removed]",
            "text/plain": [
              "<Figure size 432x288 with 1 Axes>"
            ]
          },
          "metadata": {
            "tags": [],
            "needs_background": "light"
          }
        },
        {
          "output_type": "display_data",
          "data": {
            "image/png": "[encoded data removed]",
            "text/plain": [
              "<Figure size 432x288 with 1 Axes>"
            ]
          },
          "metadata": {
            "tags": [],
            "needs_background": "light"
          }
        }
      ]
    },
    {
      "cell_type": "code",
      "metadata": {
        "id": "3Nho9MP9S9g-",
        "colab_type": "code",
        "colab": {
          "base_uri": "https://localhost:8080/",
          "height": 52
        },
        "outputId": "4826d717-19dd-48bb-fe4c-5ee2e19d455c"
      },
      "source": [
        "test_generator = test_datagen.flow_from_directory(\n",
        "        test_dir,\n",
        "        target_size=(150, 150),\n",
        "        batch_size=20,\n",
        "        class_mode='binary')\n",
        "\n",
        "test_loss, test_acc = model.evaluate_generator(test_generator, steps=50)\n",
        "print('test acc:', test_acc)"
      ],
      "execution_count": 28,
      "outputs": [
        {
          "output_type": "stream",
          "text": [
            "Found 1000 images belonging to 2 classes.\n",
            "test acc: 0.9350000023841858\n"
          ],
          "name": "stdout"
        }
      ]
    },
    {
      "cell_type": "code",
      "metadata": {
        "id": "b4UChTz9YRPO",
        "colab_type": "code",
        "colab": {}
      },
      "source": [
        ""
      ],
      "execution_count": 0,
      "outputs": []
    }
  ]
}