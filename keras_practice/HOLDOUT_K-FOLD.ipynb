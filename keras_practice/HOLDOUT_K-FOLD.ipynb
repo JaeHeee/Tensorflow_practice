{
  "nbformat": 4,
  "nbformat_minor": 0,
  "metadata": {
    "colab": {
      "name": "Untitled14.ipynb",
      "provenance": [],
      "authorship_tag": "ABX9TyOJBWo8VQM0A624AmXJUNtn",
      "include_colab_link": true
    },
    "kernelspec": {
      "name": "python3",
      "display_name": "Python 3"
    }
  },
  "cells": [
    {
      "cell_type": "markdown",
      "metadata": {
        "id": "view-in-github",
        "colab_type": "text"
      },
      "source": [
        "<a href=\"https://colab.research.google.com/github/JaeHeee/Tensorflow_practice/blob/master/keras_practice/HOLDOUT_K-FOLD.ipynb\" target=\"_parent\"><img src=\"https://colab.research.google.com/assets/colab-badge.svg\" alt=\"Open In Colab\"/></a>"
      ]
    },
    {
      "cell_type": "markdown",
      "metadata": {
        "id": "z5bSrrmcvFj9",
        "colab_type": "text"
      },
      "source": [
        "HOLTOUT"
      ]
    },
    {
      "cell_type": "code",
      "metadata": {
        "id": "4Ls4JgkYvKOa",
        "colab_type": "code",
        "colab": {}
      },
      "source": [
        "num_validation_samples = 10000\n",
        "\n",
        "np.random.shuffle(data)\n",
        "\n",
        "validation_data = data[:num_validation_samples]\n",
        "data = data[num_validation_samples:]\n",
        "\n",
        "training_data = data[:]\n",
        "\n",
        "model = get_model()\n",
        "model.train(training_data)\n",
        "validation_score = model.evaluate(validation_data)\n",
        "\n",
        "# 모델 튜닝\n",
        "# 훈련, 평가, 다시 튜닝 ...\n",
        "\n",
        "model = get_model()\n",
        "model.train(np.concatenate([training_data, validation_data]))\n",
        "test_score = model.evaluate(test_data)"
      ],
      "execution_count": 0,
      "outputs": []
    },
    {
      "cell_type": "markdown",
      "metadata": {
        "id": "jD8K33EBvMmI",
        "colab_type": "text"
      },
      "source": [
        "K-FOLD"
      ]
    },
    {
      "cell_type": "code",
      "metadata": {
        "id": "auiA0tKrvPHE",
        "colab_type": "code",
        "colab": {}
      },
      "source": [
        "k = 4\n",
        "num_validation_samples = len(data)//k\n",
        "\n",
        "np.random.shuffle(data)\n",
        "\n",
        "validation_scores = []\n",
        "for fold in range(k):\n",
        "    validation_data = data[num_validation_samples*fold : num_validation_samples*(fold+1)]\n",
        "    training_data = data[:num_validation_samples*fold] + data[num_validation_samples*(fold+1):]\n",
        "\n",
        "    model = get_model()\n",
        "    model.train(training_data)\n",
        "    validation_score = model.evaluate(validation_data)\n",
        "    validation_scores.append(validation_score)\n",
        "\n",
        "    validation_score = np.average(validation_scores)\n",
        "\n",
        "    model = get_model()\n",
        "    model.train(data)\n",
        "    test_score = model.evaluate(test_data)"
      ],
      "execution_count": 0,
      "outputs": []
    }
  ]
}